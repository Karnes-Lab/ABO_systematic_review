{
 "cells": [
  {
   "cell_type": "markdown",
   "id": "598d7658",
   "metadata": {
    "tags": []
   },
   "source": [
    "# <span style=\"color:darkblue\">ABO Systematic Review - Characteristics</span> "
   ]
  },
  {
   "cell_type": "markdown",
   "id": "be82145a-0fe7-44ee-a58c-11fae1ffdee2",
   "metadata": {},
   "source": [
    "Author: Kiana Lee Martinez\\\n",
    "Date: 2023"
   ]
  },
  {
   "cell_type": "markdown",
   "id": "bc8ab187-80be-4fa0-8c6c-4744e827928a",
   "metadata": {},
   "source": [
    "# <span style=\"color:dodgerblue\">Background Information</span>"
   ]
  },
  {
   "cell_type": "markdown",
   "id": "8fe81bae-8298-4cbe-916e-ced057a8f5dd",
   "metadata": {},
   "source": [
    "This notebook documents how we will look at different characteristics including:\n",
    "* populations\n",
    "* year of publication\n",
    "* journals\n"
   ]
  },
  {
   "cell_type": "markdown",
   "id": "ee47d930",
   "metadata": {},
   "source": [
    "# <span style=\"color:dodgerblue\">Import Packages</span>"
   ]
  },
  {
   "cell_type": "code",
   "execution_count": 1,
   "id": "bef82ca6",
   "metadata": {},
   "outputs": [],
   "source": [
    "# importing necessary packages\n",
    "import pandas as pd\n",
    "import numpy as np\n",
    "import glob # finds all the pathnames matching a specified pattern according to the rules used by the Unix shell\n",
    "import os # Miscellaneous operating system interfaces\n",
    "import seaborn as sns # for data visualization \n",
    "from scipy import stats # for performing stats\n",
    "import scipy.stats.distributions as dist # for performing stats\n",
    "import matplotlib.pyplot as plt # for data vis\n",
    "import matplotlib.patches as mpatches # for data vis"
   ]
  },
  {
   "cell_type": "code",
   "execution_count": 2,
   "id": "e2a6d466",
   "metadata": {},
   "outputs": [],
   "source": [
    "# set useful variables\n",
    "directory = \"../\""
   ]
  },
  {
   "cell_type": "markdown",
   "id": "fa48f24a",
   "metadata": {},
   "source": [
    "# <span style=\"color:dodgerblue\">Read in datasets</span>"
   ]
  },
  {
   "cell_type": "markdown",
   "id": "7fa2f1d0",
   "metadata": {},
   "source": [
    "Read in merged raw data."
   ]
  },
  {
   "cell_type": "code",
   "execution_count": 3,
   "id": "da9303e0",
   "metadata": {},
   "outputs": [],
   "source": [
    "# read in csv file\n",
    "df_raw = pd.read_csv(directory + \"data/complete-raw-data.csv\")\n"
   ]
  },
  {
   "cell_type": "code",
   "execution_count": 4,
   "id": "cca2ed8e",
   "metadata": {},
   "outputs": [
    {
     "name": "stdout",
     "output_type": "stream",
     "text": [
      "refid\n",
      "author\n",
      "title\n",
      "accession_num\n",
      "database_provider\n",
      "date\n",
      "id\n",
      "issue\n",
      "journal\n",
      "language\n",
      "database_name\n",
      "pages\n",
      "publication\n",
      "publisher\n",
      "volume\n",
      "year\n",
      "user\n",
      "level\n",
      "snps\n",
      "o_snps\n",
      "b_snps\n",
      "a_snps\n",
      "a1_snps\n",
      "a2_snps\n",
      "snp_num\n",
      "haplotype\n",
      "sero\n",
      "ld\n",
      "ld_score\n",
      "sig_result\n",
      "cohort_total\n",
      "pop_descrip\n",
      "afr\n",
      "amr\n",
      "eas\n",
      "eur\n",
      "sas\n",
      "other\n",
      "pheno\n",
      "study\n",
      "seq\n",
      "multi_b_snps\n",
      "o2\n",
      "subtypes\n",
      "o_v_nono\n",
      "diversity\n",
      "imputed\n",
      "notes\n"
     ]
    }
   ],
   "source": [
    "# print column names\n",
    "for col in df_raw.columns:\n",
    "    print(col)"
   ]
  },
  {
   "cell_type": "markdown",
   "id": "c449b250-000e-4677-919c-473461a3ab7b",
   "metadata": {},
   "source": [
    "# <span style=\"color:dodgerblue\">Update raw data with derived data</span>"
   ]
  },
  {
   "cell_type": "markdown",
   "id": "e74dc570-561c-4322-ba21-24106a018006",
   "metadata": {},
   "source": [
    "## Population Descriptions"
   ]
  },
  {
   "cell_type": "code",
   "execution_count": 5,
   "id": "89c2dd53-b6d1-41a5-9404-193d071fcd2f",
   "metadata": {},
   "outputs": [],
   "source": [
    "# read in population descriptions\n",
    "df_pop_descriptions = pd.read_csv(directory + \"data/population-descriptions.csv\")\n",
    "# simply dataset to have just refid and 1000g pop\n",
    "df_pop = df_pop_descriptions[[\"refid\", \"1000g_population\"]]\n",
    "\n",
    "# add to raw data\n",
    "df_raw_updated = pd.merge(df_raw, df_pop, on=\"refid\")"
   ]
  },
  {
   "cell_type": "markdown",
   "id": "101c1a37-5770-44df-b3c8-3c672db8e229",
   "metadata": {},
   "source": [
    "## Sequencing/Genotyping Platforms"
   ]
  },
  {
   "cell_type": "code",
   "execution_count": 6,
   "id": "61b2ae5c-adc1-4da1-9581-968e723cfea4",
   "metadata": {},
   "outputs": [],
   "source": [
    "# read in sequencing/genotyping platform categorizations\n",
    "df_seq_geno = pd.read_csv(directory + \"data/seq-categorization.csv\")\n",
    "# simply dataset to have just refid and 1000g pop\n",
    "df_seq_geno = df_seq_geno[[\"refid\", \"seq_categor\"]]\n",
    "\n",
    "# add to raw data\n",
    "df_raw_updated = pd.merge(df_raw_updated, df_seq_geno, on=\"refid\")"
   ]
  },
  {
   "cell_type": "markdown",
   "id": "369d0ba8-eea5-4a06-87f8-bdb4d8852b2f",
   "metadata": {},
   "source": [
    "## Primary Phenotype Categories"
   ]
  },
  {
   "cell_type": "code",
   "execution_count": 7,
   "id": "7dc0a6e5-41fc-4b7a-a28c-13f384c50336",
   "metadata": {},
   "outputs": [],
   "source": [
    "# read in phenotype classification\n",
    "df_pheno = pd.read_csv(directory + \"data/phenotype_descriptions.csv\")\n",
    "\n",
    "# simply dataset to have just refid and phenotype_classification\n",
    "df_pheno = df_pheno[[\"refid\", \"phenotype_classification\"]]\n",
    "# add to raw data\n",
    "df_raw_updated = pd.merge(df_raw_updated, df_pheno, on=\"refid\")"
   ]
  },
  {
   "cell_type": "markdown",
   "id": "256cb2f1-9712-43cf-847e-3f0ff73f5fee",
   "metadata": {},
   "source": [
    "## Standardizing Journal Names"
   ]
  },
  {
   "cell_type": "code",
   "execution_count": 8,
   "id": "06fdbac9-768d-4d49-b03f-bab9f62996e2",
   "metadata": {},
   "outputs": [],
   "source": [
    "# read in phenotype classification\n",
    "df_journals = pd.read_csv(directory + \"data/journals_list.csv\")\n",
    "# add to raw data\n",
    "df_raw_updated = pd.merge(df_raw_updated, df_journals, on=\"refid\")"
   ]
  },
  {
   "cell_type": "code",
   "execution_count": 9,
   "id": "c67a3738-be5c-42a2-9d67-34075e943b7c",
   "metadata": {},
   "outputs": [],
   "source": [
    "# rename dataframe for ease\n",
    "df_raw = df_raw_updated"
   ]
  },
  {
   "cell_type": "markdown",
   "id": "5014e996-d88e-4993-94d0-b2759e26e81f",
   "metadata": {},
   "source": [
    "# <span style=\"color:dodgerblue\">Export Dataset</span>"
   ]
  },
  {
   "cell_type": "code",
   "execution_count": 10,
   "id": "3c95d431-ac53-4a8f-8191-81cf0094bc22",
   "metadata": {},
   "outputs": [],
   "source": [
    "# select columsn of interest\n",
    "df_updated = df_raw_updated[['refid', 'author', 'title', 'issue', 'Journal', 'pages', 'publisher', 'volume', 'year', \n",
    "                             'snps', 'o_snps', 'a_snps', 'b_snps', 'snp_num', 'haplotype', 'sero', 'ld', 'ld_score',\n",
    "                             'sig_result', 'cohort_total', 'pop_descrip', 'afr', 'amr', 'eas', 'eur', 'sas', 'other', \n",
    "                             'pheno', 'study', 'seq', '1000g_population', 'seq_categor', 'phenotype_classification']]\n",
    "\n",
    "\n",
    "\n",
    "# update column names\n",
    "df_updated = df_updated.rename({'Journal': 'journal'}, \n",
    "                               axis=1)  "
   ]
  },
  {
   "cell_type": "code",
   "execution_count": 11,
   "id": "dbefd71c-342f-4af6-b1e2-5d187f86d781",
   "metadata": {},
   "outputs": [],
   "source": [
    "# save as CSV file\n",
    "df_updated.to_csv(directory + \"results/extracted_derived_data.csv\", \n",
    "                 index=False)"
   ]
  },
  {
   "cell_type": "markdown",
   "id": "5861fb45",
   "metadata": {},
   "source": [
    "# <span style=\"color:dodgerblue\">Summaries</span>"
   ]
  },
  {
   "cell_type": "markdown",
   "id": "e3b5fcb9",
   "metadata": {},
   "source": [
    "## Population break down of studies"
   ]
  },
  {
   "cell_type": "code",
   "execution_count": 12,
   "id": "f884b97a",
   "metadata": {},
   "outputs": [
    {
     "data": {
      "text/html": [
       "<div>\n",
       "<style scoped>\n",
       "    .dataframe tbody tr th:only-of-type {\n",
       "        vertical-align: middle;\n",
       "    }\n",
       "\n",
       "    .dataframe tbody tr th {\n",
       "        vertical-align: top;\n",
       "    }\n",
       "\n",
       "    .dataframe thead th {\n",
       "        text-align: right;\n",
       "    }\n",
       "</style>\n",
       "<table border=\"1\" class=\"dataframe\">\n",
       "  <thead>\n",
       "    <tr style=\"text-align: right;\">\n",
       "      <th></th>\n",
       "      <th>count</th>\n",
       "      <th>percentage</th>\n",
       "    </tr>\n",
       "  </thead>\n",
       "  <tbody>\n",
       "    <tr>\n",
       "      <th>EUR</th>\n",
       "      <td>59</td>\n",
       "      <td>0.433824</td>\n",
       "    </tr>\n",
       "    <tr>\n",
       "      <th>EAS</th>\n",
       "      <td>30</td>\n",
       "      <td>0.220588</td>\n",
       "    </tr>\n",
       "    <tr>\n",
       "      <th>unclear</th>\n",
       "      <td>19</td>\n",
       "      <td>0.139706</td>\n",
       "    </tr>\n",
       "    <tr>\n",
       "      <th>AFR</th>\n",
       "      <td>7</td>\n",
       "      <td>0.051471</td>\n",
       "    </tr>\n",
       "    <tr>\n",
       "      <th>AFR, EUR</th>\n",
       "      <td>6</td>\n",
       "      <td>0.044118</td>\n",
       "    </tr>\n",
       "    <tr>\n",
       "      <th>EUR, other</th>\n",
       "      <td>4</td>\n",
       "      <td>0.029412</td>\n",
       "    </tr>\n",
       "    <tr>\n",
       "      <th>AMR</th>\n",
       "      <td>3</td>\n",
       "      <td>0.022059</td>\n",
       "    </tr>\n",
       "    <tr>\n",
       "      <th>AFR, EUR, other</th>\n",
       "      <td>2</td>\n",
       "      <td>0.014706</td>\n",
       "    </tr>\n",
       "    <tr>\n",
       "      <th>AFR, AMR, EUR, other</th>\n",
       "      <td>2</td>\n",
       "      <td>0.014706</td>\n",
       "    </tr>\n",
       "    <tr>\n",
       "      <th>AFR, other</th>\n",
       "      <td>2</td>\n",
       "      <td>0.014706</td>\n",
       "    </tr>\n",
       "    <tr>\n",
       "      <th>SAS</th>\n",
       "      <td>1</td>\n",
       "      <td>0.007353</td>\n",
       "    </tr>\n",
       "    <tr>\n",
       "      <th>AFR, EAS, EUR, other</th>\n",
       "      <td>1</td>\n",
       "      <td>0.007353</td>\n",
       "    </tr>\n",
       "  </tbody>\n",
       "</table>\n",
       "</div>"
      ],
      "text/plain": [
       "                      count  percentage\n",
       "EUR                      59    0.433824\n",
       "EAS                      30    0.220588\n",
       "unclear                  19    0.139706\n",
       "AFR                       7    0.051471\n",
       "AFR, EUR                  6    0.044118\n",
       "EUR, other                4    0.029412\n",
       "AMR                       3    0.022059\n",
       "AFR, EUR, other           2    0.014706\n",
       "AFR, AMR, EUR, other      2    0.014706\n",
       "AFR, other                2    0.014706\n",
       "SAS                       1    0.007353\n",
       "AFR, EAS, EUR, other      1    0.007353"
      ]
     },
     "execution_count": 12,
     "metadata": {},
     "output_type": "execute_result"
    }
   ],
   "source": [
    "# counts\n",
    "pop_counts = df_raw[\"1000g_population\"].value_counts()\n",
    "\n",
    "# percs\n",
    "pop_percs = df_raw[\"1000g_population\"].value_counts(normalize=True)\n",
    "\n",
    "# table with both counts and percs\n",
    "pd.concat([pop_counts,pop_percs], axis=1, keys=['count', 'percentage'])"
   ]
  },
  {
   "cell_type": "markdown",
   "id": "4085cce0",
   "metadata": {},
   "source": [
    "The number/percent of studies done in more than one population. "
   ]
  },
  {
   "cell_type": "code",
   "execution_count": 13,
   "id": "6b6048bd",
   "metadata": {
    "scrolled": true
   },
   "outputs": [
    {
     "name": "stdout",
     "output_type": "stream",
     "text": [
      "17 , 0.125\n"
     ]
    }
   ],
   "source": [
    "# count the number of rows when row contains a comma; index \"True\" from value.counts\n",
    "multi_ancestry_count = df_raw[\"1000g_population\"].str.contains(\",\").value_counts()[True]\n",
    "\n",
    "# percent the number of rows when row contains a comma; index \"True\" from value.counts\n",
    "multi_ancestry_perc = df_raw[\"1000g_population\"].str.contains(\",\").value_counts(normalize=True)[True]\n",
    "\n",
    "print(multi_ancestry_count,\",\",multi_ancestry_perc)"
   ]
  },
  {
   "cell_type": "markdown",
   "id": "2eaf8ba1",
   "metadata": {},
   "source": [
    "The number/percent of studies whose population break down was unclear. "
   ]
  },
  {
   "cell_type": "code",
   "execution_count": 14,
   "id": "c6636784",
   "metadata": {},
   "outputs": [
    {
     "name": "stdout",
     "output_type": "stream",
     "text": [
      "19 , 0.13970588235294118\n"
     ]
    }
   ],
   "source": [
    "# count the number of rows when row contains a comma; index \"True\" from value.counts\n",
    "unclear_ancestry_count = df_raw[\"1000g_population\"].str.contains(\"unclear\").value_counts()[True]\n",
    "\n",
    "# percent the number of rows when row contains a comma; index \"True\" from value.counts\n",
    "unclear_ancestry_perc = df_raw[\"1000g_population\"].str.contains(\"unclear\").value_counts(normalize=True)[True]\n",
    "\n",
    "print(unclear_ancestry_count,\",\",unclear_ancestry_perc)"
   ]
  },
  {
   "cell_type": "markdown",
   "id": "4adf201d",
   "metadata": {},
   "source": [
    "The number/percent of studies who population was done in a single population. "
   ]
  },
  {
   "cell_type": "code",
   "execution_count": 15,
   "id": "96e88f8c",
   "metadata": {},
   "outputs": [
    {
     "name": "stdout",
     "output_type": "stream",
     "text": [
      "100 , 0.7352941176470589\n"
     ]
    }
   ],
   "source": [
    "# count if single population; count if doesn't contain the following two strings\n",
    "single_ancestry_count = df_raw[\"1000g_population\"].str.contains(\",|unclear\").value_counts()[False] # note the \"False\"\n",
    "\n",
    "# percent the number of rows when row contains a comma; index \"True\" from value.counts\n",
    "single_ancestry_perc = df_raw[\"1000g_population\"].str.contains(\",|unclear\").value_counts(normalize=True)[False] # note the \"False\"\n",
    "\n",
    "print(single_ancestry_count,\",\",single_ancestry_perc)"
   ]
  },
  {
   "cell_type": "markdown",
   "id": "d3779d50",
   "metadata": {},
   "source": [
    "The number/percent of studies done in European population. "
   ]
  },
  {
   "cell_type": "code",
   "execution_count": 16,
   "id": "614daf10",
   "metadata": {},
   "outputs": [
    {
     "name": "stdout",
     "output_type": "stream",
     "text": [
      "74 , 0.5441176470588235\n"
     ]
    }
   ],
   "source": [
    "# count if includes European populations\n",
    "eur_ancestry_count = df_raw[\"1000g_population\"].str.contains(\"EUR\").value_counts()[True]\n",
    "\n",
    "# percent the number of rows when row contains a comma; index \"True\" from value.counts\n",
    "eur_ancestry_perc = df_raw[\"1000g_population\"].str.contains(\"EUR\").value_counts(normalize=True)[True] \n",
    "\n",
    "print(eur_ancestry_count,\",\",eur_ancestry_perc)"
   ]
  },
  {
   "cell_type": "markdown",
   "id": "3c06c16f",
   "metadata": {},
   "source": [
    "## Publication years"
   ]
  },
  {
   "cell_type": "markdown",
   "id": "8e83b168",
   "metadata": {},
   "source": [
    "### Mean and median year of publication"
   ]
  },
  {
   "cell_type": "code",
   "execution_count": 17,
   "id": "db24182e",
   "metadata": {},
   "outputs": [
    {
     "name": "stdout",
     "output_type": "stream",
     "text": [
      "The mean year of publication is 2016 and the median year of publication is 2016\n"
     ]
    }
   ],
   "source": [
    "# mean\n",
    "publication_mean = df_raw[\"year\"].mean()\n",
    "\n",
    "# median\n",
    "publication_median = df_raw[\"year\"].median()\n",
    "\n",
    "print(\"The mean year of publication is\", round(publication_mean), \n",
    "     \"and the median year of publication is\", round(publication_median)) "
   ]
  },
  {
   "cell_type": "markdown",
   "id": "424cc119",
   "metadata": {},
   "source": [
    "### Distribution of years of publication"
   ]
  },
  {
   "cell_type": "code",
   "execution_count": 18,
   "id": "d0738a50",
   "metadata": {
    "scrolled": true
   },
   "outputs": [],
   "source": [
    "# counts within 1000g population breakdown\n",
    "df_raw[\"year\"].value_counts()\n",
    "\n",
    "# convert value counts output to dataframe\n",
    "years = df_raw[\"year\"].value_counts().rename_axis('year').reset_index(name='count')"
   ]
  },
  {
   "cell_type": "code",
   "execution_count": 19,
   "id": "6a395c65",
   "metadata": {},
   "outputs": [
    {
     "data": {
      "image/png": "[encoded data removed]",
      "text/plain": [
       "<Figure size 1000x800 with 1 Axes>"
      ]
     },
     "metadata": {},
     "output_type": "display_data"
    }
   ],
   "source": [
    "# bar plot\n",
    "\n",
    "# set the figure size\n",
    "plt.figure(figsize=(10, 8))\n",
    "\n",
    "# count plot shows the counts of observations in each categorical bin using bars.\n",
    "sns.countplot(data=df_raw, x=\"year\")\n",
    "\n",
    "# customize\n",
    "plt.title('Count of Studies That Used SNPs to Determine ABO Bood Type Alleles Since 2005', fontsize=14)\n",
    "plt.xlabel('Years', fontsize=14, labelpad=15)\n",
    "plt.ylabel('Number of studies', fontsize=14, labelpad=20)\n",
    "\n",
    "plt.show()"
   ]
  },
  {
   "cell_type": "markdown",
   "id": "df64fc18",
   "metadata": {},
   "source": [
    "## List of journals"
   ]
  },
  {
   "cell_type": "markdown",
   "id": "f7eb8579",
   "metadata": {},
   "source": [
    "Some of the journal names aren't standardized so I made an updated list of the journal names for each publicaiton. "
   ]
  },
  {
   "cell_type": "code",
   "execution_count": 20,
   "id": "e7f2c1d6",
   "metadata": {},
   "outputs": [],
   "source": [
    "# read in updated list of journals \n",
    "jls = pd.read_csv(directory + \"data/journals_list.csv\")"
   ]
  },
  {
   "cell_type": "code",
   "execution_count": 21,
   "id": "430e78fb",
   "metadata": {},
   "outputs": [],
   "source": [
    "# add in new list to df\n",
    "df_raw_jls = pd.merge(df_raw, jls, how='right', on='refid')"
   ]
  },
  {
   "cell_type": "code",
   "execution_count": 22,
   "id": "9a97f943",
   "metadata": {},
   "outputs": [
    {
     "data": {
      "text/html": [
       "<div>\n",
       "<style scoped>\n",
       "    .dataframe tbody tr th:only-of-type {\n",
       "        vertical-align: middle;\n",
       "    }\n",
       "\n",
       "    .dataframe tbody tr th {\n",
       "        vertical-align: top;\n",
       "    }\n",
       "\n",
       "    .dataframe thead th {\n",
       "        text-align: right;\n",
       "    }\n",
       "</style>\n",
       "<table border=\"1\" class=\"dataframe\">\n",
       "  <thead>\n",
       "    <tr style=\"text-align: right;\">\n",
       "      <th></th>\n",
       "      <th>journals</th>\n",
       "      <th>count of studies</th>\n",
       "    </tr>\n",
       "  </thead>\n",
       "  <tbody>\n",
       "    <tr>\n",
       "      <th>0</th>\n",
       "      <td>Journal of Thrombosis and Haemostasis</td>\n",
       "      <td>14</td>\n",
       "    </tr>\n",
       "    <tr>\n",
       "      <th>1</th>\n",
       "      <td>PLOS One</td>\n",
       "      <td>12</td>\n",
       "    </tr>\n",
       "    <tr>\n",
       "      <th>2</th>\n",
       "      <td>Human Molecular Genetics</td>\n",
       "      <td>6</td>\n",
       "    </tr>\n",
       "    <tr>\n",
       "      <th>3</th>\n",
       "      <td>Nature Genetics</td>\n",
       "      <td>5</td>\n",
       "    </tr>\n",
       "    <tr>\n",
       "      <th>4</th>\n",
       "      <td>Blood</td>\n",
       "      <td>5</td>\n",
       "    </tr>\n",
       "    <tr>\n",
       "      <th>5</th>\n",
       "      <td>International Journal of Cancer</td>\n",
       "      <td>4</td>\n",
       "    </tr>\n",
       "    <tr>\n",
       "      <th>6</th>\n",
       "      <td>Cancer Epidemiology, Biomarkers &amp; Prevention</td>\n",
       "      <td>4</td>\n",
       "    </tr>\n",
       "    <tr>\n",
       "      <th>7</th>\n",
       "      <td>Transfusion</td>\n",
       "      <td>3</td>\n",
       "    </tr>\n",
       "    <tr>\n",
       "      <th>8</th>\n",
       "      <td>Cancer Medicine</td>\n",
       "      <td>3</td>\n",
       "    </tr>\n",
       "    <tr>\n",
       "      <th>9</th>\n",
       "      <td>BMC Genomics</td>\n",
       "      <td>2</td>\n",
       "    </tr>\n",
       "    <tr>\n",
       "      <th>10</th>\n",
       "      <td>Neurology</td>\n",
       "      <td>2</td>\n",
       "    </tr>\n",
       "    <tr>\n",
       "      <th>11</th>\n",
       "      <td>Annals of Human Genetics</td>\n",
       "      <td>2</td>\n",
       "    </tr>\n",
       "    <tr>\n",
       "      <th>12</th>\n",
       "      <td>Journal of Medical Genetics</td>\n",
       "      <td>2</td>\n",
       "    </tr>\n",
       "    <tr>\n",
       "      <th>13</th>\n",
       "      <td>Cancer Science</td>\n",
       "      <td>2</td>\n",
       "    </tr>\n",
       "    <tr>\n",
       "      <th>14</th>\n",
       "      <td>Blood Coagulation &amp; Fibrinolysis</td>\n",
       "      <td>2</td>\n",
       "    </tr>\n",
       "  </tbody>\n",
       "</table>\n",
       "</div>"
      ],
      "text/plain": [
       "                                        journals  count of studies\n",
       "0          Journal of Thrombosis and Haemostasis                14\n",
       "1                                       PLOS One                12\n",
       "2                       Human Molecular Genetics                 6\n",
       "3                                Nature Genetics                 5\n",
       "4                                          Blood                 5\n",
       "5                International Journal of Cancer                 4\n",
       "6   Cancer Epidemiology, Biomarkers & Prevention                 4\n",
       "7                                    Transfusion                 3\n",
       "8                                Cancer Medicine                 3\n",
       "9                                   BMC Genomics                 2\n",
       "10                                     Neurology                 2\n",
       "11                      Annals of Human Genetics                 2\n",
       "12                   Journal of Medical Genetics                 2\n",
       "13                                Cancer Science                 2\n",
       "14              Blood Coagulation & Fibrinolysis                 2"
      ]
     },
     "execution_count": 22,
     "metadata": {},
     "output_type": "execute_result"
    }
   ],
   "source": [
    "# counts within 1000g population breakdown\n",
    "df_raw_jls[\"Journal_y\"].value_counts()\n",
    "\n",
    "# convert value counts output to dataframe\n",
    "journals = df_raw_jls[\"Journal_y\"].value_counts().rename_axis('journals').reset_index(name='count of studies')\n",
    "journals.head(15)"
   ]
  },
  {
   "cell_type": "markdown",
   "id": "1683bb2b",
   "metadata": {},
   "source": [
    "### Loops to count the number of times a population is evaluated"
   ]
  },
  {
   "cell_type": "code",
   "execution_count": 23,
   "id": "0bac3a6f",
   "metadata": {},
   "outputs": [
    {
     "name": "stdout",
     "output_type": "stream",
     "text": [
      "74 20 5 31 1\n"
     ]
    }
   ],
   "source": [
    "# for loop to count the number of times EUR is seen\n",
    "eur_sum = 0\n",
    "for i in df_raw[\"1000g_population\"]:\n",
    "    if 'EUR' in i :\n",
    "        eur_sum += 1\n",
    "\n",
    "# for loop to count the number of times AFR is seen\n",
    "afr_sum = 0\n",
    "for i in df_raw[\"1000g_population\"]:\n",
    "    if \"AFR\" in i :\n",
    "        afr_sum += 1\n",
    "\n",
    "# for loop to count the number of times AMR is seen\n",
    "amr_sum = 0\n",
    "for i in df_raw[\"1000g_population\"]:\n",
    "    if 'AMR' in i :\n",
    "        amr_sum += 1\n",
    "\n",
    "# for loop to count the number of times EAS is seen\n",
    "eas_sum = 0\n",
    "for i in df_raw[\"1000g_population\"]:\n",
    "    if 'EAS' in i :\n",
    "        eas_sum += 1\n",
    "\n",
    "# for loop to count the number of times SAS is seen\n",
    "sas_sum = 0\n",
    "for i in df_raw[\"1000g_population\"]:\n",
    "    if 'SAS' in i :\n",
    "        sas_sum += 1\n",
    "print(eur_sum, afr_sum, amr_sum, eas_sum, sas_sum)"
   ]
  },
  {
   "cell_type": "code",
   "execution_count": 24,
   "id": "4bb048a0",
   "metadata": {
    "scrolled": true
   },
   "outputs": [
    {
     "data": {
      "text/html": [
       "<div>\n",
       "<style scoped>\n",
       "    .dataframe tbody tr th:only-of-type {\n",
       "        vertical-align: middle;\n",
       "    }\n",
       "\n",
       "    .dataframe tbody tr th {\n",
       "        vertical-align: top;\n",
       "    }\n",
       "\n",
       "    .dataframe thead th {\n",
       "        text-align: right;\n",
       "    }\n",
       "</style>\n",
       "<table border=\"1\" class=\"dataframe\">\n",
       "  <thead>\n",
       "    <tr style=\"text-align: right;\">\n",
       "      <th></th>\n",
       "      <th>Population</th>\n",
       "      <th>Number_of_References</th>\n",
       "      <th>Proportion</th>\n",
       "    </tr>\n",
       "  </thead>\n",
       "  <tbody>\n",
       "    <tr>\n",
       "      <th>0</th>\n",
       "      <td>EUR</td>\n",
       "      <td>74</td>\n",
       "      <td>0.564885</td>\n",
       "    </tr>\n",
       "    <tr>\n",
       "      <th>1</th>\n",
       "      <td>AFR</td>\n",
       "      <td>20</td>\n",
       "      <td>0.152672</td>\n",
       "    </tr>\n",
       "    <tr>\n",
       "      <th>2</th>\n",
       "      <td>AMR</td>\n",
       "      <td>5</td>\n",
       "      <td>0.038168</td>\n",
       "    </tr>\n",
       "    <tr>\n",
       "      <th>3</th>\n",
       "      <td>EAS</td>\n",
       "      <td>31</td>\n",
       "      <td>0.236641</td>\n",
       "    </tr>\n",
       "    <tr>\n",
       "      <th>4</th>\n",
       "      <td>SAS</td>\n",
       "      <td>1</td>\n",
       "      <td>0.007634</td>\n",
       "    </tr>\n",
       "  </tbody>\n",
       "</table>\n",
       "</div>"
      ],
      "text/plain": [
       "  Population  Number_of_References  Proportion\n",
       "0        EUR                    74    0.564885\n",
       "1        AFR                    20    0.152672\n",
       "2        AMR                     5    0.038168\n",
       "3        EAS                    31    0.236641\n",
       "4        SAS                     1    0.007634"
      ]
     },
     "execution_count": 24,
     "metadata": {},
     "output_type": "execute_result"
    }
   ],
   "source": [
    "# make a dataframe\n",
    "\n",
    "# initialize a data of lists\n",
    "populations = {'Population': [\"EUR\", \"AFR\", \"AMR\", \"EAS\", \"SAS\"],\n",
    "              'Number_of_References': [eur_sum, afr_sum, amr_sum, eas_sum, sas_sum]}\n",
    "\n",
    "# create dataframe\n",
    "pop = pd.DataFrame(populations)\n",
    "\n",
    "# add in proportions\n",
    "pop['Proportion'] = (pop['Number_of_References'] / pop['Number_of_References'].sum())\n",
    "\n",
    "pop"
   ]
  },
  {
   "cell_type": "code",
   "execution_count": 26,
   "id": "ae5e6ba3",
   "metadata": {},
   "outputs": [
    {
     "data": {
      "image/png": "[encoded data removed]",
      "text/plain": [
       "<Figure size 640x480 with 1 Axes>"
      ]
     },
     "metadata": {},
     "output_type": "display_data"
    }
   ],
   "source": [
    "# create a bargraph\n",
    "\n",
    "# assign\n",
    "barplot_fig = plt.gcf()\n",
    "\n",
    "# import package\n",
    "import matplotlib.pyplot as plt\n",
    "# create graph with matplotlib\n",
    "New_Colors = ['#FC4E2A','#DC3977','#7C1D6F', '#045275', '#6CBA7D']\n",
    "plt.bar(pop['Population'], pop['Number_of_References'], color=New_Colors)\n",
    "plt.title('Number of Studies per Population', fontsize=16)\n",
    "plt.xlabel('Inferred Continental Ancestry', fontsize=14)\n",
    "plt.ylabel('Counts', fontsize=14)\n",
    "plt.show()\n",
    "\n",
    "# save figure\n",
    "barplot_fig.savefig(f\"{directory}results/python_figures/number-studies-per-population.svg\", \n",
    "           format='svg',\n",
    "           bbox_inches=\"tight\")"
   ]
  },
  {
   "cell_type": "markdown",
   "id": "b34d8df6",
   "metadata": {},
   "source": [
    "# <span style=\"color:dodgerblue\">Haplotype Analysis</span>"
   ]
  },
  {
   "cell_type": "markdown",
   "id": "2bb34e86",
   "metadata": {},
   "source": [
    "First, we need to ask if phasing the data is warranted. Is the study looking at both O and A/B blood type alleles?"
   ]
  },
  {
   "cell_type": "code",
   "execution_count": 27,
   "id": "9b3291c8",
   "metadata": {},
   "outputs": [
    {
     "data": {
      "text/html": [
       "<div>\n",
       "<style scoped>\n",
       "    .dataframe tbody tr th:only-of-type {\n",
       "        vertical-align: middle;\n",
       "    }\n",
       "\n",
       "    .dataframe tbody tr th {\n",
       "        vertical-align: top;\n",
       "    }\n",
       "\n",
       "    .dataframe thead th {\n",
       "        text-align: right;\n",
       "    }\n",
       "</style>\n",
       "<table border=\"1\" class=\"dataframe\">\n",
       "  <thead>\n",
       "    <tr style=\"text-align: right;\">\n",
       "      <th></th>\n",
       "      <th>refid</th>\n",
       "      <th>haplotype_analysis</th>\n",
       "    </tr>\n",
       "  </thead>\n",
       "  <tbody>\n",
       "    <tr>\n",
       "      <th>0</th>\n",
       "      <td>22</td>\n",
       "      <td>Unclear</td>\n",
       "    </tr>\n",
       "    <tr>\n",
       "      <th>1</th>\n",
       "      <td>44</td>\n",
       "      <td>Yes</td>\n",
       "    </tr>\n",
       "    <tr>\n",
       "      <th>2</th>\n",
       "      <td>49</td>\n",
       "      <td>Yes</td>\n",
       "    </tr>\n",
       "    <tr>\n",
       "      <th>3</th>\n",
       "      <td>53</td>\n",
       "      <td>No</td>\n",
       "    </tr>\n",
       "    <tr>\n",
       "      <th>4</th>\n",
       "      <td>325</td>\n",
       "      <td>Yes</td>\n",
       "    </tr>\n",
       "    <tr>\n",
       "      <th>...</th>\n",
       "      <td>...</td>\n",
       "      <td>...</td>\n",
       "    </tr>\n",
       "    <tr>\n",
       "      <th>131</th>\n",
       "      <td>1912</td>\n",
       "      <td>Unclear</td>\n",
       "    </tr>\n",
       "    <tr>\n",
       "      <th>132</th>\n",
       "      <td>1926</td>\n",
       "      <td>No</td>\n",
       "    </tr>\n",
       "    <tr>\n",
       "      <th>133</th>\n",
       "      <td>1963</td>\n",
       "      <td>Unclear</td>\n",
       "    </tr>\n",
       "    <tr>\n",
       "      <th>134</th>\n",
       "      <td>1967</td>\n",
       "      <td>No</td>\n",
       "    </tr>\n",
       "    <tr>\n",
       "      <th>135</th>\n",
       "      <td>1970</td>\n",
       "      <td>Unclear</td>\n",
       "    </tr>\n",
       "  </tbody>\n",
       "</table>\n",
       "<p>136 rows × 2 columns</p>\n",
       "</div>"
      ],
      "text/plain": [
       "     refid haplotype_analysis\n",
       "0       22            Unclear\n",
       "1       44                Yes\n",
       "2       49                Yes\n",
       "3       53                 No\n",
       "4      325                Yes\n",
       "..     ...                ...\n",
       "131   1912            Unclear\n",
       "132   1926                 No\n",
       "133   1963            Unclear\n",
       "134   1967                 No\n",
       "135   1970            Unclear\n",
       "\n",
       "[136 rows x 2 columns]"
      ]
     },
     "execution_count": 27,
     "metadata": {},
     "output_type": "execute_result"
    }
   ],
   "source": [
    "# subset to  keep only the references that look at both O and AB blood type allles\n",
    "df_hap = df_raw.loc[(df_raw['o_snps'].notna()) & \n",
    "                    (df_raw['b_snps'].notna())]\n",
    "\n",
    "# now pull only the oclumns we want\n",
    "df_hap = df_raw[[\"refid\", \"haplotype\"]]\n",
    "# rename columns\n",
    "df_hap.columns = [\"refid\", \"haplotype_analysis\"]\n",
    "df_hap"
   ]
  },
  {
   "cell_type": "code",
   "execution_count": 28,
   "id": "67d2bfcd",
   "metadata": {},
   "outputs": [
    {
     "data": {
      "image/png": "[encoded data removed]",
      "text/plain": [
       "<Figure size 640x480 with 1 Axes>"
      ]
     },
     "metadata": {},
     "output_type": "display_data"
    }
   ],
   "source": [
    "# bar plot\n",
    "\n",
    "# assign\n",
    "hap_fig = plt.gcf()\n",
    "\n",
    "# set the figure size\n",
    "#plt.figure(figsize=(10, 8))\n",
    "\n",
    "# create a custom color palette\n",
    "sns.set_palette(\"Greens\", 3)\n",
    "\n",
    "# count plot shows the counts of observations in each categorical bin using bars.\n",
    "sns.countplot(data=df_hap, x=\"haplotype_analysis\")\n",
    "\n",
    "# customize\n",
    "plt.title('Count of Studies That Phased Their Data and \\n Performed a Haplotype Analysis', fontsize=14)\n",
    "plt.xlabel('Performed a Haplotype Analysis to \\n Derive ABO Blood Type Alleles', fontsize=12, labelpad=15)\n",
    "plt.ylabel('Number of studies', fontsize=12, labelpad=20)\n",
    "\n",
    "plt.show()\n",
    "\n",
    "# save figure\n",
    "hap_fig.savefig(f\"{directory}results/python_figures/haplotype-bar-plot.svg\", \n",
    "           format='svg',\n",
    "           bbox_inches=\"tight\")"
   ]
  },
  {
   "cell_type": "markdown",
   "id": "9d53c9f4-07c4-46da-80bd-f7b06dc55bb3",
   "metadata": {},
   "source": [
    "# <span style=\"color:dodgerblue\">Phenotype Categorization Chart</span>"
   ]
  },
  {
   "cell_type": "markdown",
   "id": "d76c1e57-652d-4e37-b5f1-481156349c15",
   "metadata": {},
   "source": [
    "Using categorization created by Uju. \n",
    "\n",
    "The categorization are the following: \n",
    "    \n",
    "* cardiovascular\n",
    "* digestive system / gastrointestinal\n",
    "* hematological\n",
    "* hepatic\n",
    "* immune system\n",
    "* metabolic\n",
    "* infectious disease\n",
    "* inflammatory\n",
    "* neurological\n",
    "* oncology\n",
    "* multiple phenotypes\n",
    "* misc"
   ]
  },
  {
   "cell_type": "code",
   "execution_count": 29,
   "id": "e5cc8a0c-8bf9-47e4-b6eb-0357c8b406f9",
   "metadata": {},
   "outputs": [
    {
     "data": {
      "text/html": [
       "<div>\n",
       "<style scoped>\n",
       "    .dataframe tbody tr th:only-of-type {\n",
       "        vertical-align: middle;\n",
       "    }\n",
       "\n",
       "    .dataframe tbody tr th {\n",
       "        vertical-align: top;\n",
       "    }\n",
       "\n",
       "    .dataframe thead th {\n",
       "        text-align: right;\n",
       "    }\n",
       "</style>\n",
       "<table border=\"1\" class=\"dataframe\">\n",
       "  <thead>\n",
       "    <tr style=\"text-align: right;\">\n",
       "      <th></th>\n",
       "      <th>refid</th>\n",
       "      <th>pheno</th>\n",
       "      <th>phenotype_classification</th>\n",
       "    </tr>\n",
       "  </thead>\n",
       "  <tbody>\n",
       "    <tr>\n",
       "      <th>0</th>\n",
       "      <td>22</td>\n",
       "      <td>coagulation factor VIII</td>\n",
       "      <td>hematological</td>\n",
       "    </tr>\n",
       "    <tr>\n",
       "      <th>1</th>\n",
       "      <td>44</td>\n",
       "      <td>COVID-19</td>\n",
       "      <td>infectious_disease</td>\n",
       "    </tr>\n",
       "    <tr>\n",
       "      <th>2</th>\n",
       "      <td>49</td>\n",
       "      <td>stroke risk</td>\n",
       "      <td>cardiovascular</td>\n",
       "    </tr>\n",
       "    <tr>\n",
       "      <th>3</th>\n",
       "      <td>53</td>\n",
       "      <td>autoimmune neutropenia of early childhood</td>\n",
       "      <td>immune_system</td>\n",
       "    </tr>\n",
       "    <tr>\n",
       "      <th>4</th>\n",
       "      <td>325</td>\n",
       "      <td>coagulation factor VIII</td>\n",
       "      <td>hematological</td>\n",
       "    </tr>\n",
       "  </tbody>\n",
       "</table>\n",
       "</div>"
      ],
      "text/plain": [
       "   refid                                      pheno phenotype_classification\n",
       "0     22                    coagulation factor VIII           hematological \n",
       "1     44                                   COVID-19       infectious_disease\n",
       "2     49                                stroke risk           cardiovascular\n",
       "3     53  autoimmune neutropenia of early childhood            immune_system\n",
       "4    325                    coagulation factor VIII           hematological "
      ]
     },
     "execution_count": 29,
     "metadata": {},
     "output_type": "execute_result"
    }
   ],
   "source": [
    "# subset dataset for ease\n",
    "df_pheno = df_raw[['refid', 'pheno', 'phenotype_classification']]\n",
    "df_pheno.head()"
   ]
  },
  {
   "cell_type": "markdown",
   "id": "2954fb78-8cb6-4fc6-a397-747aff98fe88",
   "metadata": {},
   "source": [
    "## Make a piechart"
   ]
  },
  {
   "cell_type": "code",
   "execution_count": 30,
   "id": "9e72c036-2058-4cde-be5b-af948ae45654",
   "metadata": {},
   "outputs": [
    {
     "data": {
      "text/plain": [
       "hematological                         28\n",
       "cardiovascular                        28\n",
       "oncology                              21\n",
       "infectious_disease                    14\n",
       "digestive_system_gastrointestinal      9\n",
       "inflammatory                           8\n",
       "misc                                   7\n",
       "multiple_phenotypes                    6\n",
       "immune_system                          5\n",
       "hepatic                                5\n",
       "neurological                           3\n",
       "metabolic                              2\n",
       "Name: phenotype_classification, dtype: int64"
      ]
     },
     "execution_count": 30,
     "metadata": {},
     "output_type": "execute_result"
    }
   ],
   "source": [
    "# count unique occurrences of values in a colum\n",
    "df_pheno['phenotype_classification'].value_counts()"
   ]
  },
  {
   "cell_type": "code",
   "execution_count": 31,
   "id": "ef42029f-5b85-46d5-b895-65a493f99c1d",
   "metadata": {},
   "outputs": [
    {
     "data": {
      "text/plain": [
       "hematological                         20.59\n",
       "cardiovascular                        20.59\n",
       "oncology                              15.44\n",
       "infectious_disease                    10.29\n",
       "digestive_system_gastrointestinal      6.62\n",
       "inflammatory                           5.88\n",
       "misc                                   5.15\n",
       "multiple_phenotypes                    4.41\n",
       "immune_system                          3.68\n",
       "hepatic                                3.68\n",
       "neurological                           2.21\n",
       "metabolic                              1.47\n",
       "Name: phenotype_classification, dtype: float64"
      ]
     },
     "execution_count": 31,
     "metadata": {},
     "output_type": "execute_result"
    }
   ],
   "source": [
    "df_pheno['phenotype_classification'].value_counts(normalize=True).mul(100).round(2)"
   ]
  },
  {
   "cell_type": "code",
   "execution_count": 32,
   "id": "6f7dda8c-aea0-4bc1-a487-2a572bb1240a",
   "metadata": {},
   "outputs": [
    {
     "data": {
      "text/html": [
       "<div>\n",
       "<style scoped>\n",
       "    .dataframe tbody tr th:only-of-type {\n",
       "        vertical-align: middle;\n",
       "    }\n",
       "\n",
       "    .dataframe tbody tr th {\n",
       "        vertical-align: top;\n",
       "    }\n",
       "\n",
       "    .dataframe thead th {\n",
       "        text-align: right;\n",
       "    }\n",
       "</style>\n",
       "<table border=\"1\" class=\"dataframe\">\n",
       "  <thead>\n",
       "    <tr style=\"text-align: right;\">\n",
       "      <th></th>\n",
       "      <th>phenotype_classification</th>\n",
       "      <th>counts</th>\n",
       "      <th>percentage</th>\n",
       "    </tr>\n",
       "  </thead>\n",
       "  <tbody>\n",
       "    <tr>\n",
       "      <th>0</th>\n",
       "      <td>hematological</td>\n",
       "      <td>28</td>\n",
       "      <td>20.59</td>\n",
       "    </tr>\n",
       "    <tr>\n",
       "      <th>1</th>\n",
       "      <td>cardiovascular</td>\n",
       "      <td>28</td>\n",
       "      <td>20.59</td>\n",
       "    </tr>\n",
       "    <tr>\n",
       "      <th>2</th>\n",
       "      <td>oncology</td>\n",
       "      <td>21</td>\n",
       "      <td>15.44</td>\n",
       "    </tr>\n",
       "    <tr>\n",
       "      <th>3</th>\n",
       "      <td>infectious_disease</td>\n",
       "      <td>14</td>\n",
       "      <td>10.29</td>\n",
       "    </tr>\n",
       "    <tr>\n",
       "      <th>4</th>\n",
       "      <td>digestive_system_gastrointestinal</td>\n",
       "      <td>9</td>\n",
       "      <td>6.62</td>\n",
       "    </tr>\n",
       "    <tr>\n",
       "      <th>5</th>\n",
       "      <td>inflammatory</td>\n",
       "      <td>8</td>\n",
       "      <td>5.88</td>\n",
       "    </tr>\n",
       "    <tr>\n",
       "      <th>6</th>\n",
       "      <td>misc</td>\n",
       "      <td>7</td>\n",
       "      <td>5.15</td>\n",
       "    </tr>\n",
       "    <tr>\n",
       "      <th>7</th>\n",
       "      <td>multiple_phenotypes</td>\n",
       "      <td>6</td>\n",
       "      <td>4.41</td>\n",
       "    </tr>\n",
       "    <tr>\n",
       "      <th>8</th>\n",
       "      <td>immune_system</td>\n",
       "      <td>5</td>\n",
       "      <td>3.68</td>\n",
       "    </tr>\n",
       "    <tr>\n",
       "      <th>9</th>\n",
       "      <td>hepatic</td>\n",
       "      <td>5</td>\n",
       "      <td>3.68</td>\n",
       "    </tr>\n",
       "    <tr>\n",
       "      <th>10</th>\n",
       "      <td>neurological</td>\n",
       "      <td>3</td>\n",
       "      <td>2.21</td>\n",
       "    </tr>\n",
       "    <tr>\n",
       "      <th>11</th>\n",
       "      <td>metabolic</td>\n",
       "      <td>2</td>\n",
       "      <td>1.47</td>\n",
       "    </tr>\n",
       "  </tbody>\n",
       "</table>\n",
       "</div>"
      ],
      "text/plain": [
       "              phenotype_classification  counts  percentage\n",
       "0                       hematological       28       20.59\n",
       "1                       cardiovascular      28       20.59\n",
       "2                             oncology      21       15.44\n",
       "3                   infectious_disease      14       10.29\n",
       "4   digestive_system_gastrointestinal        9        6.62\n",
       "5                         inflammatory       8        5.88\n",
       "6                                 misc       7        5.15\n",
       "7                  multiple_phenotypes       6        4.41\n",
       "8                        immune_system       5        3.68\n",
       "9                              hepatic       5        3.68\n",
       "10                        neurological       3        2.21\n",
       "11                           metabolic       2        1.47"
      ]
     },
     "execution_count": 32,
     "metadata": {},
     "output_type": "execute_result"
    }
   ],
   "source": [
    "# convert \".value_counts\" output to dataframe\n",
    "df_pheno_pie = df_pheno.phenotype_classification.value_counts().rename_axis('phenotype_classification').reset_index(name='counts')\n",
    "df_pheno_pie['phenotype_classification'].astype(str)\n",
    "# calculate percentage \n",
    "percentage = df_pheno['phenotype_classification'].value_counts(normalize=True).mul(100).round(2).rename_axis('phenotype_classification').reset_index(name='percentage')\n",
    "# merge the two dataframes\n",
    "df_pheno_pie = pd.merge(df_pheno_pie, percentage, on='phenotype_classification')\n",
    "df_pheno_pie"
   ]
  },
  {
   "cell_type": "code",
   "execution_count": 33,
   "id": "7c935ba8-94b5-4947-9420-467e5b636f5a",
   "metadata": {
    "tags": []
   },
   "outputs": [
    {
     "data": {
      "image/png": "[encoded data removed]",
      "text/plain": [
       "<Figure size 1000x1000 with 1 Axes>"
      ]
     },
     "metadata": {},
     "output_type": "display_data"
    }
   ],
   "source": [
    "# set the figure size\n",
    "plt.figure(figsize=(10, 10))\n",
    "\n",
    "#define Seaborn color palette to use\n",
    "colors = sns.color_palette('pastel')\n",
    "\n",
    "#create pie chart\n",
    "plt.pie(df_pheno_pie.counts, labels = df_pheno_pie['phenotype_classification'], colors = colors, autopct='%.0f%%')\n",
    "\n",
    "plt.title('Studies per Phenotype', fontsize=14)\n",
    "\n",
    "plt.show()\n"
   ]
  },
  {
   "cell_type": "code",
   "execution_count": 34,
   "id": "2875997a-9ba1-4062-ad58-3f9fdf328513",
   "metadata": {},
   "outputs": [
    {
     "data": {
      "text/plain": [
       "<Figure size 640x480 with 0 Axes>"
      ]
     },
     "metadata": {},
     "output_type": "display_data"
    },
    {
     "data": {
      "image/png": "[encoded data removed]",
      "text/plain": [
       "<Waffle size 1000x1000 with 1 Axes>"
      ]
     },
     "metadata": {},
     "output_type": "display_data"
    }
   ],
   "source": [
    "### waffle chart\n",
    "from pywaffle import Waffle\n",
    "\n",
    "#define Seaborn color palette to use\n",
    "#colors = sns.color_palette('pastel')\n",
    "colors = ['#FC4E2A', '#DC3977', '#7C1D6F', '#045275', '#6CBA7D', '#fcb72a',\n",
    "          '#febfb1', '#f4bed3', '#f3ccee', '#b6e7fd', '#c9e6d0', '#fee5b1']\n",
    "\n",
    "# set u plot labels\n",
    "plot_labels = [f'{i} \\n({str(j)} %)' for i,j in zip(df_pheno_pie.phenotype_classification, \n",
    "                                                    df_pheno_pie.percentage)]\n",
    "# assign\n",
    "pie_fig = plt.gcf()\n",
    "\n",
    "pie_fig = plt.figure(FigureClass=Waffle, figsize=(10,10), rows=4, columns = 20, \n",
    "                 values=list(df_pheno_pie['percentage']),\n",
    "                 colors=colors,\n",
    "                 labels=plot_labels,\n",
    "                 legend={'loc':'lower center', 'bbox_to_anchor': (0.5, -1.2), \n",
    "                        'ncol':3, 'fontsize':12})\n",
    "\n",
    "# save figure\n",
    "pie_fig.savefig(f\"{directory}results/python_figures/studies-per-phenotype.svg\", \n",
    "           format='svg',\n",
    "           bbox_inches=\"tight\")"
   ]
  },
  {
   "cell_type": "markdown",
   "id": "b848b2dc-c268-4b13-971d-747b8bd1fc12",
   "metadata": {},
   "source": [
    "# <span style=\"color:dodgerblue\">Summary Table</span>"
   ]
  },
  {
   "cell_type": "markdown",
   "id": "0f1baa18-a5e2-4e57-b70c-b1cca2cc9d96",
   "metadata": {},
   "source": [
    "The characteristics I want to summarize across is population category (AFR, AMR, EAS, EUR, SAS, multiple, unclear) include:\n",
    "* total studies\n",
    "* total participants\n",
    "* mean year of study\n",
    "* sequencing/genotyping platform\n",
    "    * sequencing\n",
    "    * genotyping\n",
    "    * PCR/specific target\n",
    "    * multiple\n",
    "* performed haplotype analysis\n",
    "    * yes\n",
    "    * no\n",
    "    * unclear\n"
   ]
  },
  {
   "cell_type": "markdown",
   "id": "1dac9bdb-645c-4eb6-a52f-f7fc89be7fad",
   "metadata": {},
   "source": [
    "## Population Categorization"
   ]
  },
  {
   "cell_type": "markdown",
   "id": "e7fd5bc8-526f-4abf-b91e-664109236610",
   "metadata": {},
   "source": [
    "Add a new column differentiating if the study is composed of one of the population groups:\n",
    "* AFR\n",
    "* AMR\n",
    "* EAS\n",
    "* EUR\n",
    "* SAS\n",
    "* Multiple\n",
    "* Unclear"
   ]
  },
  {
   "cell_type": "code",
   "execution_count": 35,
   "id": "614087e5-a46e-4df9-9ba6-4cd15d3cb26e",
   "metadata": {},
   "outputs": [],
   "source": [
    "# create a list of conditions\n",
    "conditions = [\n",
    "    df_raw[\"1000g_population\"] == 'AFR', \n",
    "    df_raw[\"1000g_population\"] == 'AMR',\n",
    "    df_raw[\"1000g_population\"] == 'EAS',\n",
    "    df_raw[\"1000g_population\"] == 'EUR',\n",
    "    df_raw[\"1000g_population\"] == 'SAS',\n",
    "    df_raw[\"1000g_population\"] == 'unclear',\n",
    "    df_raw[\"1000g_population\"].str.contains(\",\") # value contains comma\n",
    "]\n",
    "\n",
    "# create a list of values that correspond to the conditions\n",
    "values = [\n",
    "    'AFR',\n",
    "    'AMR',\n",
    "    'EAS',\n",
    "    'EUR',\n",
    "    'SAS',\n",
    "    'unclear',\n",
    "    'multiple'\n",
    "    \n",
    "]\n",
    "\n",
    "# create a new column\n",
    "df_raw[\"population_category\"] = np.select(conditions, values, default = \"error\")"
   ]
  },
  {
   "cell_type": "code",
   "execution_count": 37,
   "id": "c6193515-5431-4f66-bb74-5f554807465f",
   "metadata": {},
   "outputs": [
    {
     "data": {
      "text/plain": [
       "array(['multiple', 'EUR', 'unclear', 'AFR', 'EAS', 'SAS', 'AMR'],\n",
       "      dtype=object)"
      ]
     },
     "execution_count": 37,
     "metadata": {},
     "output_type": "execute_result"
    }
   ],
   "source": [
    "df_raw[\"population_category\"].unique()"
   ]
  },
  {
   "cell_type": "markdown",
   "id": "5a70ffd6-f0f0-4799-b921-9392abea4df2",
   "metadata": {},
   "source": [
    "## Updated Sequencing Categorization"
   ]
  },
  {
   "cell_type": "markdown",
   "id": "578fe4ce-3937-48ee-b1a6-151d69b5e809",
   "metadata": {},
   "source": [
    "Add a new column differentiating an updated sequencing categorization:\n",
    "* sequencing\n",
    "* genotyping\n",
    "* PCR/specific target\n",
    "* multiple"
   ]
  },
  {
   "cell_type": "code",
   "execution_count": 41,
   "id": "4cea733f-99db-43d7-bd74-6317aca211d0",
   "metadata": {},
   "outputs": [],
   "source": [
    "# create a list of conditions\n",
    "conditions = [\n",
    "    df_raw[\"seq_categor\"] == 'sequencing', \n",
    "    df_raw[\"seq_categor\"] == 'snp_abg',\n",
    "    df_raw[\"seq_categor\"] == 'pcr_specific_target',\n",
    "    df_raw[\"seq_categor\"].str.contains(\",\") # value contains comma\n",
    "]\n",
    "\n",
    "# create a list of values that correspond to the conditions\n",
    "values = [\n",
    "    'sequencing',\n",
    "    'genotyping',\n",
    "    'pcr_specific_target',\n",
    "    'multiple'\n",
    "    \n",
    "]\n",
    "\n",
    "# create a new column\n",
    "df_raw[\"updated_seq_categor\"] = np.select(conditions, values, default = \"error\")\n"
   ]
  },
  {
   "cell_type": "markdown",
   "id": "125bef84-d6da-44f5-86df-07ed1f419620",
   "metadata": {},
   "source": [
    "## Populate New Tables"
   ]
  },
  {
   "cell_type": "markdown",
   "id": "5becb279-4147-499f-a91e-d2b8d745de84",
   "metadata": {},
   "source": [
    "### Sequencing/Genotyping Categories"
   ]
  },
  {
   "cell_type": "code",
   "execution_count": 44,
   "id": "91ae4a52-bd25-4a88-9916-a9854f49250d",
   "metadata": {},
   "outputs": [
    {
     "data": {
      "text/plain": [
       "array(['multiple', 'EUR', 'unclear', 'AFR', 'EAS', 'SAS', 'AMR'],\n",
       "      dtype=object)"
      ]
     },
     "execution_count": 44,
     "metadata": {},
     "output_type": "execute_result"
    }
   ],
   "source": [
    "df_raw['population_category'].unique()"
   ]
  },
  {
   "cell_type": "code",
   "execution_count": 46,
   "id": "dacd3bad-d4c0-4874-8292-58d19c6c1c74",
   "metadata": {},
   "outputs": [],
   "source": [
    "# subset out by population category\n",
    "afr_df = df_raw.loc[df_raw['population_category'] == 'AFR']\n",
    "amr_df = df_raw.loc[df_raw['population_category'] == 'AMR']\n",
    "eas_df = df_raw.loc[df_raw['population_category'] == 'EAS']\n",
    "eur_df = df_raw.loc[df_raw['population_category'] == 'EUR']\n",
    "sas_df = df_raw.loc[df_raw['population_category'] == 'SAS']\n",
    "mult_df = df_raw.loc[df_raw['population_category'] == 'multiple']\n",
    "unclear_df = df_raw.loc[df_raw['population_category'] == 'unclear']"
   ]
  },
  {
   "cell_type": "code",
   "execution_count": 47,
   "id": "f58c4c88-29df-4bfa-b8f0-f6fb9910fa24",
   "metadata": {},
   "outputs": [
    {
     "data": {
      "text/html": [
       "<div>\n",
       "<style scoped>\n",
       "    .dataframe tbody tr th:only-of-type {\n",
       "        vertical-align: middle;\n",
       "    }\n",
       "\n",
       "    .dataframe tbody tr th {\n",
       "        vertical-align: top;\n",
       "    }\n",
       "\n",
       "    .dataframe thead th {\n",
       "        text-align: right;\n",
       "    }\n",
       "</style>\n",
       "<table border=\"1\" class=\"dataframe\">\n",
       "  <thead>\n",
       "    <tr style=\"text-align: right;\">\n",
       "      <th></th>\n",
       "      <th>AFR</th>\n",
       "      <th>AMR</th>\n",
       "      <th>EAS</th>\n",
       "      <th>EUR</th>\n",
       "      <th>SAS</th>\n",
       "      <th>multiple</th>\n",
       "      <th>unclear</th>\n",
       "    </tr>\n",
       "  </thead>\n",
       "  <tbody>\n",
       "    <tr>\n",
       "      <th>sequencing</th>\n",
       "      <td>2.0</td>\n",
       "      <td>0.0</td>\n",
       "      <td>0.0</td>\n",
       "      <td>1.0</td>\n",
       "      <td>0.0</td>\n",
       "      <td>0.0</td>\n",
       "      <td>2.0</td>\n",
       "    </tr>\n",
       "    <tr>\n",
       "      <th>genotyping</th>\n",
       "      <td>4.0</td>\n",
       "      <td>0.0</td>\n",
       "      <td>12.0</td>\n",
       "      <td>36.0</td>\n",
       "      <td>1.0</td>\n",
       "      <td>10.0</td>\n",
       "      <td>9.0</td>\n",
       "    </tr>\n",
       "    <tr>\n",
       "      <th>pcr_specific_target</th>\n",
       "      <td>1.0</td>\n",
       "      <td>3.0</td>\n",
       "      <td>14.0</td>\n",
       "      <td>17.0</td>\n",
       "      <td>0.0</td>\n",
       "      <td>5.0</td>\n",
       "      <td>6.0</td>\n",
       "    </tr>\n",
       "    <tr>\n",
       "      <th>multiple</th>\n",
       "      <td>0.0</td>\n",
       "      <td>0.0</td>\n",
       "      <td>4.0</td>\n",
       "      <td>5.0</td>\n",
       "      <td>0.0</td>\n",
       "      <td>2.0</td>\n",
       "      <td>2.0</td>\n",
       "    </tr>\n",
       "  </tbody>\n",
       "</table>\n",
       "</div>"
      ],
      "text/plain": [
       "                     AFR  AMR   EAS   EUR  SAS  multiple  unclear\n",
       "sequencing           2.0  0.0   0.0   1.0  0.0       0.0      2.0\n",
       "genotyping           4.0  0.0  12.0  36.0  1.0      10.0      9.0\n",
       "pcr_specific_target  1.0  3.0  14.0  17.0  0.0       5.0      6.0\n",
       "multiple             0.0  0.0   4.0   5.0  0.0       2.0      2.0"
      ]
     },
     "execution_count": 47,
     "metadata": {},
     "output_type": "execute_result"
    }
   ],
   "source": [
    "# make population category subsets\n",
    "\n",
    "# empty dataframe\n",
    "summary_df = pd.DataFrame()\n",
    "\n",
    "# define lists\n",
    "anc_list = ['AFR', 'AMR', 'EAS', 'EUR', 'SAS', 'multiple', 'unclear']\n",
    "anc_df = [afr_df, amr_df, eas_df, eur_df, sas_df, mult_df, unclear_df]\n",
    "seq_list = ['sequencing', 'genotyping', 'pcr_specific_target', 'multiple']\n",
    "\n",
    "\n",
    "# loop to create stratified dataframes\n",
    "for x, y in zip(anc_df, anc_list):\n",
    "    x = df_raw.loc[df_raw['population_category'] == f'{y}']\n",
    "    for z in seq_list:\n",
    "        mask = x['updated_seq_categor'] == f'{z}'\n",
    "        count = len(x[mask])\n",
    "        summary_df.loc[f'{z}', f'{y}'] = count\n",
    "\n",
    "summary_df.head()"
   ]
  },
  {
   "cell_type": "code",
   "execution_count": 49,
   "id": "663443ac-afeb-4053-ac50-97ad3556142e",
   "metadata": {},
   "outputs": [
    {
     "data": {
      "text/html": [
       "<div>\n",
       "<style scoped>\n",
       "    .dataframe tbody tr th:only-of-type {\n",
       "        vertical-align: middle;\n",
       "    }\n",
       "\n",
       "    .dataframe tbody tr th {\n",
       "        vertical-align: top;\n",
       "    }\n",
       "\n",
       "    .dataframe thead th {\n",
       "        text-align: right;\n",
       "    }\n",
       "</style>\n",
       "<table border=\"1\" class=\"dataframe\">\n",
       "  <thead>\n",
       "    <tr style=\"text-align: right;\">\n",
       "      <th></th>\n",
       "      <th>AFR</th>\n",
       "      <th>AMR</th>\n",
       "      <th>EAS</th>\n",
       "      <th>EUR</th>\n",
       "      <th>SAS</th>\n",
       "      <th>multiple</th>\n",
       "      <th>unclear</th>\n",
       "    </tr>\n",
       "  </thead>\n",
       "  <tbody>\n",
       "    <tr>\n",
       "      <th>sequencing</th>\n",
       "      <td>2.0</td>\n",
       "      <td>0.0</td>\n",
       "      <td>0.0</td>\n",
       "      <td>1.0</td>\n",
       "      <td>0.0</td>\n",
       "      <td>0.0</td>\n",
       "      <td>2.0</td>\n",
       "    </tr>\n",
       "    <tr>\n",
       "      <th>genotyping</th>\n",
       "      <td>4.0</td>\n",
       "      <td>0.0</td>\n",
       "      <td>12.0</td>\n",
       "      <td>36.0</td>\n",
       "      <td>1.0</td>\n",
       "      <td>10.0</td>\n",
       "      <td>9.0</td>\n",
       "    </tr>\n",
       "    <tr>\n",
       "      <th>pcr_specific_target</th>\n",
       "      <td>1.0</td>\n",
       "      <td>3.0</td>\n",
       "      <td>14.0</td>\n",
       "      <td>17.0</td>\n",
       "      <td>0.0</td>\n",
       "      <td>5.0</td>\n",
       "      <td>6.0</td>\n",
       "    </tr>\n",
       "    <tr>\n",
       "      <th>multiple</th>\n",
       "      <td>0.0</td>\n",
       "      <td>0.0</td>\n",
       "      <td>4.0</td>\n",
       "      <td>5.0</td>\n",
       "      <td>0.0</td>\n",
       "      <td>2.0</td>\n",
       "      <td>2.0</td>\n",
       "    </tr>\n",
       "    <tr>\n",
       "      <th>haplotype_Yes</th>\n",
       "      <td>4.0</td>\n",
       "      <td>1.0</td>\n",
       "      <td>5.0</td>\n",
       "      <td>27.0</td>\n",
       "      <td>1.0</td>\n",
       "      <td>10.0</td>\n",
       "      <td>4.0</td>\n",
       "    </tr>\n",
       "    <tr>\n",
       "      <th>haplotype_No</th>\n",
       "      <td>2.0</td>\n",
       "      <td>2.0</td>\n",
       "      <td>19.0</td>\n",
       "      <td>21.0</td>\n",
       "      <td>0.0</td>\n",
       "      <td>3.0</td>\n",
       "      <td>9.0</td>\n",
       "    </tr>\n",
       "    <tr>\n",
       "      <th>haplotype_Unclear</th>\n",
       "      <td>1.0</td>\n",
       "      <td>0.0</td>\n",
       "      <td>6.0</td>\n",
       "      <td>11.0</td>\n",
       "      <td>0.0</td>\n",
       "      <td>4.0</td>\n",
       "      <td>6.0</td>\n",
       "    </tr>\n",
       "  </tbody>\n",
       "</table>\n",
       "</div>"
      ],
      "text/plain": [
       "                     AFR  AMR   EAS   EUR  SAS  multiple  unclear\n",
       "sequencing           2.0  0.0   0.0   1.0  0.0       0.0      2.0\n",
       "genotyping           4.0  0.0  12.0  36.0  1.0      10.0      9.0\n",
       "pcr_specific_target  1.0  3.0  14.0  17.0  0.0       5.0      6.0\n",
       "multiple             0.0  0.0   4.0   5.0  0.0       2.0      2.0\n",
       "haplotype_Yes        4.0  1.0   5.0  27.0  1.0      10.0      4.0\n",
       "haplotype_No         2.0  2.0  19.0  21.0  0.0       3.0      9.0\n",
       "haplotype_Unclear    1.0  0.0   6.0  11.0  0.0       4.0      6.0"
      ]
     },
     "execution_count": 49,
     "metadata": {},
     "output_type": "execute_result"
    }
   ],
   "source": [
    "# make population category subsets\n",
    "\n",
    "# empty dataframe\n",
    "summary_df = pd.DataFrame()\n",
    "\n",
    "# define lists\n",
    "anc_list = ['AFR', 'AMR', 'EAS', 'EUR', 'SAS', 'multiple', 'unclear']\n",
    "anc_df = [afr_df, amr_df, eas_df, eur_df, sas_df, mult_df, unclear_df]\n",
    "seq_list = ['sequencing', 'genotyping', 'pcr_specific_target', 'multiple']\n",
    "hap_list = ['Yes', 'No', 'Unclear']\n",
    "\n",
    "\n",
    "# loop to create stratified dataframes\n",
    "for x, y in zip(anc_df, anc_list):\n",
    "    x = df_raw.loc[df_raw['population_category'] == f'{y}']\n",
    "    for z in seq_list:\n",
    "        mask = x['updated_seq_categor'] == f'{z}'\n",
    "        count = len(x[mask])\n",
    "        summary_df.loc[f'{z}', f'{y}'] = count\n",
    "    for w in hap_list:\n",
    "        mask = x['haplotype'] == f'{w}'\n",
    "        count = len(x[mask])\n",
    "        summary_df.loc[f'haplotype_{w}', f'{y}'] = count\n",
    "\n",
    "summary_df.head(10)"
   ]
  },
  {
   "cell_type": "code",
   "execution_count": 50,
   "id": "26d475be-31d6-48ee-97b8-7830990d662b",
   "metadata": {},
   "outputs": [
    {
     "data": {
      "text/html": [
       "<div>\n",
       "<style scoped>\n",
       "    .dataframe tbody tr th:only-of-type {\n",
       "        vertical-align: middle;\n",
       "    }\n",
       "\n",
       "    .dataframe tbody tr th {\n",
       "        vertical-align: top;\n",
       "    }\n",
       "\n",
       "    .dataframe thead th {\n",
       "        text-align: right;\n",
       "    }\n",
       "</style>\n",
       "<table border=\"1\" class=\"dataframe\">\n",
       "  <thead>\n",
       "    <tr style=\"text-align: right;\">\n",
       "      <th></th>\n",
       "      <th>AFR</th>\n",
       "      <th>AMR</th>\n",
       "      <th>EAS</th>\n",
       "      <th>EUR</th>\n",
       "      <th>SAS</th>\n",
       "      <th>multiple</th>\n",
       "      <th>unclear</th>\n",
       "    </tr>\n",
       "  </thead>\n",
       "  <tbody>\n",
       "    <tr>\n",
       "      <th>total_studies</th>\n",
       "      <td>7.0</td>\n",
       "      <td>3.0</td>\n",
       "      <td>30.0</td>\n",
       "      <td>59.0</td>\n",
       "      <td>1.0</td>\n",
       "      <td>17.0</td>\n",
       "      <td>19.0</td>\n",
       "    </tr>\n",
       "    <tr>\n",
       "      <th>year_mean</th>\n",
       "      <td>2015.0</td>\n",
       "      <td>2015.0</td>\n",
       "      <td>2016.0</td>\n",
       "      <td>2016.0</td>\n",
       "      <td>2021.0</td>\n",
       "      <td>2016.0</td>\n",
       "      <td>2017.0</td>\n",
       "    </tr>\n",
       "    <tr>\n",
       "      <th>sequencing</th>\n",
       "      <td>2.0</td>\n",
       "      <td>0.0</td>\n",
       "      <td>0.0</td>\n",
       "      <td>1.0</td>\n",
       "      <td>0.0</td>\n",
       "      <td>0.0</td>\n",
       "      <td>2.0</td>\n",
       "    </tr>\n",
       "    <tr>\n",
       "      <th>genotyping</th>\n",
       "      <td>4.0</td>\n",
       "      <td>0.0</td>\n",
       "      <td>12.0</td>\n",
       "      <td>36.0</td>\n",
       "      <td>1.0</td>\n",
       "      <td>10.0</td>\n",
       "      <td>9.0</td>\n",
       "    </tr>\n",
       "    <tr>\n",
       "      <th>pcr_specific_target</th>\n",
       "      <td>1.0</td>\n",
       "      <td>3.0</td>\n",
       "      <td>14.0</td>\n",
       "      <td>17.0</td>\n",
       "      <td>0.0</td>\n",
       "      <td>5.0</td>\n",
       "      <td>6.0</td>\n",
       "    </tr>\n",
       "    <tr>\n",
       "      <th>multiple</th>\n",
       "      <td>0.0</td>\n",
       "      <td>0.0</td>\n",
       "      <td>4.0</td>\n",
       "      <td>5.0</td>\n",
       "      <td>0.0</td>\n",
       "      <td>2.0</td>\n",
       "      <td>2.0</td>\n",
       "    </tr>\n",
       "    <tr>\n",
       "      <th>haplotype_Yes</th>\n",
       "      <td>4.0</td>\n",
       "      <td>1.0</td>\n",
       "      <td>5.0</td>\n",
       "      <td>27.0</td>\n",
       "      <td>1.0</td>\n",
       "      <td>10.0</td>\n",
       "      <td>4.0</td>\n",
       "    </tr>\n",
       "    <tr>\n",
       "      <th>haplotype_No</th>\n",
       "      <td>2.0</td>\n",
       "      <td>2.0</td>\n",
       "      <td>19.0</td>\n",
       "      <td>21.0</td>\n",
       "      <td>0.0</td>\n",
       "      <td>3.0</td>\n",
       "      <td>9.0</td>\n",
       "    </tr>\n",
       "    <tr>\n",
       "      <th>haplotype_Unclear</th>\n",
       "      <td>1.0</td>\n",
       "      <td>0.0</td>\n",
       "      <td>6.0</td>\n",
       "      <td>11.0</td>\n",
       "      <td>0.0</td>\n",
       "      <td>4.0</td>\n",
       "      <td>6.0</td>\n",
       "    </tr>\n",
       "  </tbody>\n",
       "</table>\n",
       "</div>"
      ],
      "text/plain": [
       "                        AFR     AMR     EAS     EUR     SAS  multiple  unclear\n",
       "total_studies           7.0     3.0    30.0    59.0     1.0      17.0     19.0\n",
       "year_mean            2015.0  2015.0  2016.0  2016.0  2021.0    2016.0   2017.0\n",
       "sequencing              2.0     0.0     0.0     1.0     0.0       0.0      2.0\n",
       "genotyping              4.0     0.0    12.0    36.0     1.0      10.0      9.0\n",
       "pcr_specific_target     1.0     3.0    14.0    17.0     0.0       5.0      6.0\n",
       "multiple                0.0     0.0     4.0     5.0     0.0       2.0      2.0\n",
       "haplotype_Yes           4.0     1.0     5.0    27.0     1.0      10.0      4.0\n",
       "haplotype_No            2.0     2.0    19.0    21.0     0.0       3.0      9.0\n",
       "haplotype_Unclear       1.0     0.0     6.0    11.0     0.0       4.0      6.0"
      ]
     },
     "execution_count": 50,
     "metadata": {},
     "output_type": "execute_result"
    }
   ],
   "source": [
    "# make population category subsets\n",
    "\n",
    "# empty dataframe\n",
    "summary_df = pd.DataFrame()\n",
    "\n",
    "# define lists\n",
    "anc_list = ['AFR', 'AMR', 'EAS', 'EUR', 'SAS', 'multiple', 'unclear']\n",
    "anc_df = [afr_df, amr_df, eas_df, eur_df, sas_df, mult_df, unclear_df]\n",
    "seq_list = ['sequencing', 'genotyping', 'pcr_specific_target', 'multiple']\n",
    "hap_list = ['Yes', 'No', 'Unclear']\n",
    "\n",
    "\n",
    "# loop to create stratified dataframes\n",
    "for x, y in zip(anc_df, anc_list):\n",
    "    x = df_raw.loc[df_raw['population_category'] == f'{y}']\n",
    "    summary_df.loc[f'total_studies', f'{y}'] = len(x) # total studies n\n",
    "    summary_df.loc[f'year_mean', f'{y}'] = round(x['year'].mean()) # mean year\n",
    "    for z in seq_list: # fill in based on sequecing platform\n",
    "        mask = x['updated_seq_categor'] == f'{z}'\n",
    "        count = len(x[mask])\n",
    "        summary_df.loc[f'{z}', f'{y}'] = count\n",
    "    for w in hap_list: # fill in based on type of haplotype analysis\n",
    "        mask = x['haplotype'] == f'{w}'\n",
    "        count = len(x[mask])\n",
    "        summary_df.loc[f'haplotype_{w}', f'{y}'] = count\n",
    "    \n",
    "\n",
    "summary_df.head(10)"
   ]
  },
  {
   "cell_type": "code",
   "execution_count": 51,
   "id": "1e69e0c6-ea40-4b2c-940d-86361b13384c",
   "metadata": {},
   "outputs": [
    {
     "data": {
      "text/html": [
       "<div>\n",
       "<style scoped>\n",
       "    .dataframe tbody tr th:only-of-type {\n",
       "        vertical-align: middle;\n",
       "    }\n",
       "\n",
       "    .dataframe tbody tr th {\n",
       "        vertical-align: top;\n",
       "    }\n",
       "\n",
       "    .dataframe thead th {\n",
       "        text-align: right;\n",
       "    }\n",
       "</style>\n",
       "<table border=\"1\" class=\"dataframe\">\n",
       "  <thead>\n",
       "    <tr style=\"text-align: right;\">\n",
       "      <th></th>\n",
       "      <th>AFR</th>\n",
       "      <th>AMR</th>\n",
       "      <th>EAS</th>\n",
       "      <th>EUR</th>\n",
       "      <th>SAS</th>\n",
       "      <th>multiple</th>\n",
       "      <th>unclear</th>\n",
       "    </tr>\n",
       "  </thead>\n",
       "  <tbody>\n",
       "    <tr>\n",
       "      <th>total_studies</th>\n",
       "      <td>7.0</td>\n",
       "      <td>3.0</td>\n",
       "      <td>30.0</td>\n",
       "      <td>59.0</td>\n",
       "      <td>1.0</td>\n",
       "      <td>17.0</td>\n",
       "      <td>19.0</td>\n",
       "    </tr>\n",
       "    <tr>\n",
       "      <th>year_mean</th>\n",
       "      <td>2015.0</td>\n",
       "      <td>2015.0</td>\n",
       "      <td>2016.0</td>\n",
       "      <td>2016.0</td>\n",
       "      <td>2021.0</td>\n",
       "      <td>2016.0</td>\n",
       "      <td>2017.0</td>\n",
       "    </tr>\n",
       "    <tr>\n",
       "      <th>sequencing</th>\n",
       "      <td>2.0</td>\n",
       "      <td>0.0</td>\n",
       "      <td>0.0</td>\n",
       "      <td>1.0</td>\n",
       "      <td>0.0</td>\n",
       "      <td>0.0</td>\n",
       "      <td>2.0</td>\n",
       "    </tr>\n",
       "    <tr>\n",
       "      <th>genotyping</th>\n",
       "      <td>4.0</td>\n",
       "      <td>0.0</td>\n",
       "      <td>12.0</td>\n",
       "      <td>36.0</td>\n",
       "      <td>1.0</td>\n",
       "      <td>10.0</td>\n",
       "      <td>9.0</td>\n",
       "    </tr>\n",
       "    <tr>\n",
       "      <th>pcr_specific_target</th>\n",
       "      <td>1.0</td>\n",
       "      <td>3.0</td>\n",
       "      <td>14.0</td>\n",
       "      <td>17.0</td>\n",
       "      <td>0.0</td>\n",
       "      <td>5.0</td>\n",
       "      <td>6.0</td>\n",
       "    </tr>\n",
       "    <tr>\n",
       "      <th>multiple</th>\n",
       "      <td>0.0</td>\n",
       "      <td>0.0</td>\n",
       "      <td>4.0</td>\n",
       "      <td>5.0</td>\n",
       "      <td>0.0</td>\n",
       "      <td>2.0</td>\n",
       "      <td>2.0</td>\n",
       "    </tr>\n",
       "    <tr>\n",
       "      <th>haplotype_Yes</th>\n",
       "      <td>4.0</td>\n",
       "      <td>1.0</td>\n",
       "      <td>5.0</td>\n",
       "      <td>27.0</td>\n",
       "      <td>1.0</td>\n",
       "      <td>10.0</td>\n",
       "      <td>4.0</td>\n",
       "    </tr>\n",
       "    <tr>\n",
       "      <th>haplotype_No</th>\n",
       "      <td>2.0</td>\n",
       "      <td>2.0</td>\n",
       "      <td>19.0</td>\n",
       "      <td>21.0</td>\n",
       "      <td>0.0</td>\n",
       "      <td>3.0</td>\n",
       "      <td>9.0</td>\n",
       "    </tr>\n",
       "    <tr>\n",
       "      <th>haplotype_Unclear</th>\n",
       "      <td>1.0</td>\n",
       "      <td>0.0</td>\n",
       "      <td>6.0</td>\n",
       "      <td>11.0</td>\n",
       "      <td>0.0</td>\n",
       "      <td>4.0</td>\n",
       "      <td>6.0</td>\n",
       "    </tr>\n",
       "  </tbody>\n",
       "</table>\n",
       "</div>"
      ],
      "text/plain": [
       "                        AFR     AMR     EAS     EUR     SAS  multiple  unclear\n",
       "total_studies           7.0     3.0    30.0    59.0     1.0      17.0     19.0\n",
       "year_mean            2015.0  2015.0  2016.0  2016.0  2021.0    2016.0   2017.0\n",
       "sequencing              2.0     0.0     0.0     1.0     0.0       0.0      2.0\n",
       "genotyping              4.0     0.0    12.0    36.0     1.0      10.0      9.0\n",
       "pcr_specific_target     1.0     3.0    14.0    17.0     0.0       5.0      6.0\n",
       "multiple                0.0     0.0     4.0     5.0     0.0       2.0      2.0\n",
       "haplotype_Yes           4.0     1.0     5.0    27.0     1.0      10.0      4.0\n",
       "haplotype_No            2.0     2.0    19.0    21.0     0.0       3.0      9.0\n",
       "haplotype_Unclear       1.0     0.0     6.0    11.0     0.0       4.0      6.0"
      ]
     },
     "execution_count": 51,
     "metadata": {},
     "output_type": "execute_result"
    }
   ],
   "source": [
    "# make population category subsets\n",
    "\n",
    "# empty dataframe\n",
    "summary_df = pd.DataFrame()\n",
    "\n",
    "# define lists\n",
    "anc_list = ['AFR', 'AMR', 'EAS', 'EUR', 'SAS', 'multiple', 'unclear']\n",
    "anc_df = [afr_df, amr_df, eas_df, eur_df, sas_df, mult_df, unclear_df]\n",
    "seq_list = ['sequencing', 'genotyping', 'pcr_specific_target', 'multiple']\n",
    "hap_list = ['Yes', 'No', 'Unclear']\n",
    "\n",
    "\n",
    "# loop to create stratified dataframes\n",
    "for x, y in zip(anc_df, anc_list):\n",
    "    x = df_raw.loc[df_raw['population_category'] == f'{y}']\n",
    "    summary_df.loc[f'total_studies', f'{y}'] = len(x) # total studies n\n",
    "    summary_df.loc[f'year_mean', f'{y}'] = round(x['year'].mean()) # mean year\n",
    "    for z in seq_list: # fill in based on sequecing platform\n",
    "        mask = x['updated_seq_categor'] == f'{z}'\n",
    "        count = len(x[mask])\n",
    "        summary_df.loc[f'{z}', f'{y}'] = count\n",
    "    for w in hap_list: # fill in based on type of haplotype analysis\n",
    "        mask = x['haplotype'] == f'{w}'\n",
    "        count = len(x[mask])\n",
    "        summary_df.loc[f'haplotype_{w}', f'{y}'] = count\n",
    "    \n",
    "\n",
    "summary_df.head(10)"
   ]
  },
  {
   "cell_type": "markdown",
   "id": "8e587d78-0a97-4db6-8e75-f07816cf6937",
   "metadata": {},
   "source": [
    "Decided not to add the column of \"total participants\" because there not every study had a clear number of participants. "
   ]
  },
  {
   "cell_type": "code",
   "execution_count": 52,
   "id": "a0abb3bd-f579-4513-9f04-483e9e8a1d28",
   "metadata": {},
   "outputs": [
    {
     "name": "stderr",
     "output_type": "stream",
     "text": [
      "C:\\Users\\klmartinez\\AppData\\Local\\Temp\\ipykernel_7792\\2510963085.py:15: UserWarning: Boolean Series key will be reindexed to match DataFrame index.\n",
      "  unclear_df_updated = unclear_df[df_raw['cohort_total'] != 'unclear']\n",
      "C:\\Users\\klmartinez\\AppData\\Local\\Temp\\ipykernel_7792\\2510963085.py:16: SettingWithCopyWarning: \n",
      "A value is trying to be set on a copy of a slice from a DataFrame.\n",
      "Try using .loc[row_indexer,col_indexer] = value instead\n",
      "\n",
      "See the caveats in the documentation: https://pandas.pydata.org/pandas-docs/stable/user_guide/indexing.html#returning-a-view-versus-a-copy\n",
      "  unclear_df_updated['cohort_total'] = unclear_df_updated[\"cohort_total\"].str.replace(\"~\", \"\")\n"
     ]
    },
    {
     "data": {
      "text/html": [
       "<div>\n",
       "<style scoped>\n",
       "    .dataframe tbody tr th:only-of-type {\n",
       "        vertical-align: middle;\n",
       "    }\n",
       "\n",
       "    .dataframe tbody tr th {\n",
       "        vertical-align: top;\n",
       "    }\n",
       "\n",
       "    .dataframe thead th {\n",
       "        text-align: right;\n",
       "    }\n",
       "</style>\n",
       "<table border=\"1\" class=\"dataframe\">\n",
       "  <thead>\n",
       "    <tr style=\"text-align: right;\">\n",
       "      <th></th>\n",
       "      <th>AFR</th>\n",
       "      <th>AMR</th>\n",
       "      <th>EAS</th>\n",
       "      <th>EUR</th>\n",
       "      <th>SAS</th>\n",
       "      <th>multiple</th>\n",
       "      <th>unclear</th>\n",
       "    </tr>\n",
       "  </thead>\n",
       "  <tbody>\n",
       "    <tr>\n",
       "      <th>total_studies</th>\n",
       "      <td>7.0</td>\n",
       "      <td>3.0</td>\n",
       "      <td>30.0</td>\n",
       "      <td>59.0</td>\n",
       "      <td>1.0</td>\n",
       "      <td>17.0</td>\n",
       "      <td>19.0</td>\n",
       "    </tr>\n",
       "    <tr>\n",
       "      <th>year_mean</th>\n",
       "      <td>2015.0</td>\n",
       "      <td>2015.0</td>\n",
       "      <td>2016.0</td>\n",
       "      <td>2016.0</td>\n",
       "      <td>2021.0</td>\n",
       "      <td>2016.0</td>\n",
       "      <td>2017.0</td>\n",
       "    </tr>\n",
       "    <tr>\n",
       "      <th>sequencing</th>\n",
       "      <td>2.0</td>\n",
       "      <td>0.0</td>\n",
       "      <td>0.0</td>\n",
       "      <td>1.0</td>\n",
       "      <td>0.0</td>\n",
       "      <td>0.0</td>\n",
       "      <td>2.0</td>\n",
       "    </tr>\n",
       "    <tr>\n",
       "      <th>genotyping</th>\n",
       "      <td>4.0</td>\n",
       "      <td>0.0</td>\n",
       "      <td>12.0</td>\n",
       "      <td>36.0</td>\n",
       "      <td>1.0</td>\n",
       "      <td>10.0</td>\n",
       "      <td>9.0</td>\n",
       "    </tr>\n",
       "    <tr>\n",
       "      <th>pcr_specific_target</th>\n",
       "      <td>1.0</td>\n",
       "      <td>3.0</td>\n",
       "      <td>14.0</td>\n",
       "      <td>17.0</td>\n",
       "      <td>0.0</td>\n",
       "      <td>5.0</td>\n",
       "      <td>6.0</td>\n",
       "    </tr>\n",
       "    <tr>\n",
       "      <th>multiple</th>\n",
       "      <td>0.0</td>\n",
       "      <td>0.0</td>\n",
       "      <td>4.0</td>\n",
       "      <td>5.0</td>\n",
       "      <td>0.0</td>\n",
       "      <td>2.0</td>\n",
       "      <td>2.0</td>\n",
       "    </tr>\n",
       "    <tr>\n",
       "      <th>haplotype_Yes</th>\n",
       "      <td>4.0</td>\n",
       "      <td>1.0</td>\n",
       "      <td>5.0</td>\n",
       "      <td>27.0</td>\n",
       "      <td>1.0</td>\n",
       "      <td>10.0</td>\n",
       "      <td>4.0</td>\n",
       "    </tr>\n",
       "    <tr>\n",
       "      <th>haplotype_No</th>\n",
       "      <td>2.0</td>\n",
       "      <td>2.0</td>\n",
       "      <td>19.0</td>\n",
       "      <td>21.0</td>\n",
       "      <td>0.0</td>\n",
       "      <td>3.0</td>\n",
       "      <td>9.0</td>\n",
       "    </tr>\n",
       "    <tr>\n",
       "      <th>haplotype_Unclear</th>\n",
       "      <td>1.0</td>\n",
       "      <td>0.0</td>\n",
       "      <td>6.0</td>\n",
       "      <td>11.0</td>\n",
       "      <td>0.0</td>\n",
       "      <td>4.0</td>\n",
       "      <td>6.0</td>\n",
       "    </tr>\n",
       "    <tr>\n",
       "      <th>total_participants</th>\n",
       "      <td>11096.0</td>\n",
       "      <td>2173.0</td>\n",
       "      <td>215613.0</td>\n",
       "      <td>1139015.0</td>\n",
       "      <td>646.0</td>\n",
       "      <td>1643744.0</td>\n",
       "      <td>1089870.0</td>\n",
       "    </tr>\n",
       "  </tbody>\n",
       "</table>\n",
       "</div>"
      ],
      "text/plain": [
       "                         AFR     AMR       EAS        EUR     SAS   multiple  \\\n",
       "total_studies            7.0     3.0      30.0       59.0     1.0       17.0   \n",
       "year_mean             2015.0  2015.0    2016.0     2016.0  2021.0     2016.0   \n",
       "sequencing               2.0     0.0       0.0        1.0     0.0        0.0   \n",
       "genotyping               4.0     0.0      12.0       36.0     1.0       10.0   \n",
       "pcr_specific_target      1.0     3.0      14.0       17.0     0.0        5.0   \n",
       "multiple                 0.0     0.0       4.0        5.0     0.0        2.0   \n",
       "haplotype_Yes            4.0     1.0       5.0       27.0     1.0       10.0   \n",
       "haplotype_No             2.0     2.0      19.0       21.0     0.0        3.0   \n",
       "haplotype_Unclear        1.0     0.0       6.0       11.0     0.0        4.0   \n",
       "total_participants   11096.0  2173.0  215613.0  1139015.0   646.0  1643744.0   \n",
       "\n",
       "                       unclear  \n",
       "total_studies             19.0  \n",
       "year_mean               2017.0  \n",
       "sequencing                 2.0  \n",
       "genotyping                 9.0  \n",
       "pcr_specific_target        6.0  \n",
       "multiple                   2.0  \n",
       "haplotype_Yes              4.0  \n",
       "haplotype_No               9.0  \n",
       "haplotype_Unclear          6.0  \n",
       "total_participants   1089870.0  "
      ]
     },
     "execution_count": 52,
     "metadata": {},
     "output_type": "execute_result"
    }
   ],
   "source": [
    "# afr\n",
    "summary_df.loc[f'total_participants', 'AFR'] = afr_df['cohort_total'].astype(str).astype(int).sum()\n",
    "# amr\n",
    "summary_df.loc[f'total_participants', 'AMR'] = amr_df['cohort_total'].astype(str).astype(int).sum()\n",
    "# eas\n",
    "eas_df = eas_df[eas_df['cohort_total'] != 'unclear'] # remove unclear\n",
    "summary_df.loc[f'total_participants', 'EAS'] = eas_df['cohort_total'].astype(str).astype(int).sum()\n",
    "# eur\n",
    "summary_df.loc[f'total_participants', 'EUR'] = eur_df['cohort_total'].astype(str).astype(int).sum()\n",
    "# sas\n",
    "summary_df.loc[f'total_participants', 'SAS'] = sas_df['cohort_total'].astype(str).astype(int).sum()\n",
    "# multiple\n",
    "summary_df.loc[f'total_participants', 'multiple'] = mult_df['cohort_total'].astype(str).astype(int).sum()\n",
    "# unclear\n",
    "unclear_df_updated = unclear_df[df_raw['cohort_total'] != 'unclear']\n",
    "unclear_df_updated['cohort_total'] = unclear_df_updated[\"cohort_total\"].str.replace(\"~\", \"\")\n",
    "unclear_df = unclear_df_updated.copy()\n",
    "summary_df.loc[f'total_participants', 'unclear'] = unclear_df_updated['cohort_total'].astype(str).astype(int).sum()\n",
    "#unclear_df.head(1)\n",
    "\n",
    "summary_df"
   ]
  },
  {
   "cell_type": "markdown",
   "id": "c8917aa2-0184-447d-99e3-3e764652a2de",
   "metadata": {},
   "source": [
    "Proportion"
   ]
  },
  {
   "cell_type": "code",
   "execution_count": 53,
   "id": "482138a6-7897-43c6-bcb3-c58628af6966",
   "metadata": {},
   "outputs": [
    {
     "data": {
      "text/html": [
       "<div>\n",
       "<style scoped>\n",
       "    .dataframe tbody tr th:only-of-type {\n",
       "        vertical-align: middle;\n",
       "    }\n",
       "\n",
       "    .dataframe tbody tr th {\n",
       "        vertical-align: top;\n",
       "    }\n",
       "\n",
       "    .dataframe thead th {\n",
       "        text-align: right;\n",
       "    }\n",
       "</style>\n",
       "<table border=\"1\" class=\"dataframe\">\n",
       "  <thead>\n",
       "    <tr style=\"text-align: right;\">\n",
       "      <th></th>\n",
       "      <th>AFR_%</th>\n",
       "      <th>AMR_%</th>\n",
       "      <th>EAS_%</th>\n",
       "      <th>EUR_%</th>\n",
       "      <th>SAS_%</th>\n",
       "      <th>multiple_%</th>\n",
       "      <th>unclear_%</th>\n",
       "    </tr>\n",
       "  </thead>\n",
       "  <tbody>\n",
       "    <tr>\n",
       "      <th>total_studies</th>\n",
       "      <td>NA</td>\n",
       "      <td>NA</td>\n",
       "      <td>NA</td>\n",
       "      <td>NA</td>\n",
       "      <td>NA</td>\n",
       "      <td>NA</td>\n",
       "      <td>NA</td>\n",
       "    </tr>\n",
       "    <tr>\n",
       "      <th>year_mean</th>\n",
       "      <td>NA</td>\n",
       "      <td>NA</td>\n",
       "      <td>NA</td>\n",
       "      <td>NA</td>\n",
       "      <td>NA</td>\n",
       "      <td>NA</td>\n",
       "      <td>NA</td>\n",
       "    </tr>\n",
       "    <tr>\n",
       "      <th>sequencing</th>\n",
       "      <td>28.6</td>\n",
       "      <td>0.0</td>\n",
       "      <td>0.0</td>\n",
       "      <td>1.7</td>\n",
       "      <td>0.0</td>\n",
       "      <td>0.0</td>\n",
       "      <td>18.2</td>\n",
       "    </tr>\n",
       "    <tr>\n",
       "      <th>genotyping</th>\n",
       "      <td>57.1</td>\n",
       "      <td>0.0</td>\n",
       "      <td>41.4</td>\n",
       "      <td>61.0</td>\n",
       "      <td>100.0</td>\n",
       "      <td>58.8</td>\n",
       "      <td>54.5</td>\n",
       "    </tr>\n",
       "    <tr>\n",
       "      <th>pcr_specific_target</th>\n",
       "      <td>14.3</td>\n",
       "      <td>100.0</td>\n",
       "      <td>44.8</td>\n",
       "      <td>28.8</td>\n",
       "      <td>0.0</td>\n",
       "      <td>29.4</td>\n",
       "      <td>9.1</td>\n",
       "    </tr>\n",
       "    <tr>\n",
       "      <th>multiple</th>\n",
       "      <td>0.0</td>\n",
       "      <td>0.0</td>\n",
       "      <td>13.8</td>\n",
       "      <td>8.5</td>\n",
       "      <td>0.0</td>\n",
       "      <td>11.8</td>\n",
       "      <td>18.2</td>\n",
       "    </tr>\n",
       "    <tr>\n",
       "      <th>haplotype_Yes</th>\n",
       "      <td>57.1</td>\n",
       "      <td>33.3</td>\n",
       "      <td>17.2</td>\n",
       "      <td>45.8</td>\n",
       "      <td>100.0</td>\n",
       "      <td>58.8</td>\n",
       "      <td>18.2</td>\n",
       "    </tr>\n",
       "    <tr>\n",
       "      <th>haplotype_No</th>\n",
       "      <td>28.6</td>\n",
       "      <td>66.7</td>\n",
       "      <td>62.1</td>\n",
       "      <td>35.6</td>\n",
       "      <td>0.0</td>\n",
       "      <td>17.6</td>\n",
       "      <td>45.5</td>\n",
       "    </tr>\n",
       "    <tr>\n",
       "      <th>haplotype_Unclear</th>\n",
       "      <td>14.3</td>\n",
       "      <td>0.0</td>\n",
       "      <td>20.7</td>\n",
       "      <td>18.6</td>\n",
       "      <td>0.0</td>\n",
       "      <td>23.5</td>\n",
       "      <td>36.4</td>\n",
       "    </tr>\n",
       "  </tbody>\n",
       "</table>\n",
       "</div>"
      ],
      "text/plain": [
       "                    AFR_%  AMR_% EAS_% EUR_%  SAS_% multiple_% unclear_%\n",
       "total_studies          NA     NA    NA    NA     NA         NA        NA\n",
       "year_mean              NA     NA    NA    NA     NA         NA        NA\n",
       "sequencing           28.6    0.0   0.0   1.7    0.0        0.0      18.2\n",
       "genotyping           57.1    0.0  41.4  61.0  100.0       58.8      54.5\n",
       "pcr_specific_target  14.3  100.0  44.8  28.8    0.0       29.4       9.1\n",
       "multiple              0.0    0.0  13.8   8.5    0.0       11.8      18.2\n",
       "haplotype_Yes        57.1   33.3  17.2  45.8  100.0       58.8      18.2\n",
       "haplotype_No         28.6   66.7  62.1  35.6    0.0       17.6      45.5\n",
       "haplotype_Unclear    14.3    0.0  20.7  18.6    0.0       23.5      36.4"
      ]
     },
     "execution_count": 53,
     "metadata": {},
     "output_type": "execute_result"
    }
   ],
   "source": [
    "# make population category subsets\n",
    "\n",
    "# empty dataframe\n",
    "summary_df = pd.DataFrame()\n",
    "\n",
    "# define lists\n",
    "anc_list = ['AFR_%', 'AMR_%', 'EAS_%', 'EUR_%', 'SAS_%', 'multiple_%', 'unclear_%']\n",
    "anc_df = [afr_df, amr_df, eas_df, eur_df, sas_df, mult_df, unclear_df]\n",
    "seq_list = ['sequencing', 'genotyping', 'pcr_specific_target', 'multiple']\n",
    "hap_list = ['Yes', 'No', 'Unclear']\n",
    "\n",
    "\n",
    "# loop to create stratified dataframes\n",
    "for x, y in zip(anc_df, anc_list):\n",
    "    x = df_raw.loc[df_raw['population_category'] == f'{y}']\n",
    "    \n",
    "# loop too fill in dataframe\n",
    "for x, y in zip(anc_df, anc_list):\n",
    "    summary_df.loc[f'total_studies', f'{y}'] = 'NA'\n",
    "    summary_df.loc[f'year_mean', f'{y}'] = 'NA' # mean year\n",
    "    for z in seq_list: # fill in based on sequecing platform\n",
    "        mask = x['updated_seq_categor'] == f'{z}'\n",
    "        count = len(x[mask])\n",
    "        summary_df.loc[f'{z}', f'{y}'] = round((count/(len(x))) * 100, 1)\n",
    "    for w in hap_list: # fill in based on type of haplotype analysis\n",
    "        mask = x['haplotype'] == f'{w}'\n",
    "        count = len(x[mask])\n",
    "        summary_df.loc[f'haplotype_{w}', f'{y}'] = round((count/len(x)) * 100, 1)\n",
    "    \n",
    "\n",
    "summary_df.head(10)"
   ]
  }
 ],
 "metadata": {
  "kernelspec": {
   "display_name": "Python 3 (ipykernel)",
   "language": "python",
   "name": "python3"
  },
  "language_info": {
   "codemirror_mode": {
    "name": "ipython",
    "version": 3
   },
   "file_extension": ".py",
   "mimetype": "text/x-python",
   "name": "python",
   "nbconvert_exporter": "python",
   "pygments_lexer": "ipython3",
   "version": "3.9.12"
  }
 },
 "nbformat": 4,
 "nbformat_minor": 5
}
