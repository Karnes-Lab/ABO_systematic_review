{
 "cells": [
  {
   "cell_type": "markdown",
   "id": "598d7658",
   "metadata": {},
   "source": [
    "# <span style=\"color:darkblue\">ABO Systematic Review - SNPs Used by References for ABO Bloodtyping</span> "
   ]
  },
  {
   "cell_type": "markdown",
   "id": "18507c00-ae66-4b37-8703-e9a021013a98",
   "metadata": {},
   "source": [
    "Author: Kiana Lee Martinez\\\n",
    "Date: 2023"
   ]
  },
  {
   "cell_type": "markdown",
   "id": "4c64fa6d-d285-4ff1-af10-95f0a2a18831",
   "metadata": {},
   "source": [
    "# <span style=\"color:dodgerblue\">Background Information</span>"
   ]
  },
  {
   "cell_type": "markdown",
   "id": "fae7775d-9441-4d61-9052-c4f6b136c52b",
   "metadata": {},
   "source": [
    "Raw data was exported out of DistillerSR in the form of CSV files.\n",
    "\n",
    "This notebook documents how we look at the SNPs used by the studies included in this review. "
   ]
  },
  {
   "cell_type": "markdown",
   "id": "ee47d930",
   "metadata": {},
   "source": [
    "# <span style=\"color:dodgerblue\">Import Packages</span>"
   ]
  },
  {
   "cell_type": "code",
   "execution_count": 2,
   "id": "bef82ca6",
   "metadata": {},
   "outputs": [],
   "source": [
    "# importing necessary packages\n",
    "import matplotlib.pyplot as plt # for making plots\n",
    "import circlify # for making circkle packing chart\n",
    "import pandas as pd\n",
    "import numpy as np\n",
    "import glob # finds all the pathnames matching a specified pattern according to the rules used by the Unix shell\n",
    "import os # Miscellaneous operating system interfaces"
   ]
  },
  {
   "cell_type": "code",
   "execution_count": 3,
   "id": "e2a6d466",
   "metadata": {},
   "outputs": [],
   "source": [
    "# set useful variables\n",
    "directory = \"../\""
   ]
  },
  {
   "cell_type": "markdown",
   "id": "fa48f24a",
   "metadata": {},
   "source": [
    "# <span style=\"color:dodgerblue\">Read in datasets</span>"
   ]
  },
  {
   "cell_type": "markdown",
   "id": "f12a6926-8d9a-456b-854f-697e95477cc1",
   "metadata": {},
   "source": [
    "## Reading in complete raw data. "
   ]
  },
  {
   "cell_type": "markdown",
   "id": "7fa2f1d0",
   "metadata": {},
   "source": [
    "Reading in raw data."
   ]
  },
  {
   "cell_type": "code",
   "execution_count": 5,
   "id": "da9303e0",
   "metadata": {},
   "outputs": [],
   "source": [
    "# read in csv file\n",
    "df_raw = pd.read_csv(directory + \"data/complete-raw-data.csv\")"
   ]
  },
  {
   "cell_type": "markdown",
   "id": "3fe0b76a",
   "metadata": {},
   "source": [
    "## Reading in r2 calculations"
   ]
  },
  {
   "cell_type": "markdown",
   "id": "c243e1f3-369a-4aae-8a9a-725d17982728",
   "metadata": {},
   "source": [
    "Reading in all csv files and concatenating. These csv files where compiled by Andrew Klein from the [NIH LDpop tool](https://analysistools.cancer.gov/LDlink/?tab=ldpop). They are r2 values calculate between the functional SNP (changes depending on which blood type allele we are referencing), and the tag SNPs used by studies included in this systematic review for each 1000 Genome population:\n",
    "\n",
    "* ALL\n",
    "* AFR\n",
    "    * YRI\n",
    "    * LWK\n",
    "    * GWD\n",
    "    * MSL\n",
    "    * ESN\n",
    "    * ASW\n",
    "    * ACB\n",
    "* AMR\n",
    "    * MXL\n",
    "    * PUR\n",
    "    * CLM\n",
    "    * PEL\n",
    "* EAS\n",
    "    * CHB\n",
    "    * JPT\n",
    "    * CHS\n",
    "    * CDX\n",
    "    * KHV\n",
    "* EUR\n",
    "    * CEU\n",
    "    * TSI\n",
    "    * FIN\n",
    "    * GBR\n",
    "    * IBS\n",
    "* SAS\n",
    "    * GIH\n",
    "    * PJL\n",
    "    * BEB\n",
    "    * STU\n",
    "    * ITU"
   ]
  },
  {
   "cell_type": "markdown",
   "id": "60993c41",
   "metadata": {},
   "source": [
    "### O vs non-O SNPs"
   ]
  },
  {
   "cell_type": "markdown",
   "id": "3bd7dd97",
   "metadata": {},
   "source": [
    "The functional SNP is rs8176719."
   ]
  },
  {
   "cell_type": "code",
   "execution_count": 6,
   "id": "ca4526b6-2c9b-4693-8ed0-9481f4eea1c6",
   "metadata": {},
   "outputs": [],
   "source": [
    "# set path for files under O data folder\n",
    "path = f'{directory}data/r2_values/o_data/to-merge'\n",
    "# point to all files\n",
    "all_files = glob.glob(os.path.join(path , \"*.csv\")) #join one or more path components intelligently and then reutrn a list of path names that match pathname\n",
    "\n",
    "# create an empty list\n",
    "li = []\n",
    "\n",
    "# append file names into a the list \"li\"\n",
    "for filename in all_files: \n",
    "    df = pd.read_csv(filename, index_col=None, header=0)\n",
    "    li.append(df)\n",
    "\n",
    "# create a datarfame that concatenates all the .csv from list \"li\"\n",
    "df_o = pd.concat(li, axis=0, ignore_index=True)\n",
    "# change column names\n",
    "df_o.columns = ['functional_snp', 'tag_snp', 'population', 'r2', 'd']"
   ]
  },
  {
   "cell_type": "code",
   "execution_count": 8,
   "id": "6d7c31f5",
   "metadata": {
    "scrolled": true
   },
   "outputs": [
    {
     "data": {
      "text/html": [
       "<div>\n",
       "<style scoped>\n",
       "    .dataframe tbody tr th:only-of-type {\n",
       "        vertical-align: middle;\n",
       "    }\n",
       "\n",
       "    .dataframe tbody tr th {\n",
       "        vertical-align: top;\n",
       "    }\n",
       "\n",
       "    .dataframe thead th {\n",
       "        text-align: right;\n",
       "    }\n",
       "</style>\n",
       "<table border=\"1\" class=\"dataframe\">\n",
       "  <thead>\n",
       "    <tr style=\"text-align: right;\">\n",
       "      <th></th>\n",
       "      <th>functional_snp</th>\n",
       "      <th>tag_snp</th>\n",
       "      <th>population</th>\n",
       "      <th>r2</th>\n",
       "      <th>d</th>\n",
       "    </tr>\n",
       "  </thead>\n",
       "  <tbody>\n",
       "    <tr>\n",
       "      <th>283</th>\n",
       "      <td>rs8176719</td>\n",
       "      <td>rs8176719</td>\n",
       "      <td>GIH</td>\n",
       "      <td>1.0</td>\n",
       "      <td>1.0</td>\n",
       "    </tr>\n",
       "    <tr>\n",
       "      <th>284</th>\n",
       "      <td>rs8176719</td>\n",
       "      <td>rs8176719</td>\n",
       "      <td>PJL</td>\n",
       "      <td>1.0</td>\n",
       "      <td>1.0</td>\n",
       "    </tr>\n",
       "    <tr>\n",
       "      <th>285</th>\n",
       "      <td>rs8176719</td>\n",
       "      <td>rs8176719</td>\n",
       "      <td>BEB</td>\n",
       "      <td>1.0</td>\n",
       "      <td>1.0</td>\n",
       "    </tr>\n",
       "    <tr>\n",
       "      <th>286</th>\n",
       "      <td>rs8176719</td>\n",
       "      <td>rs8176719</td>\n",
       "      <td>STU</td>\n",
       "      <td>1.0</td>\n",
       "      <td>1.0</td>\n",
       "    </tr>\n",
       "    <tr>\n",
       "      <th>287</th>\n",
       "      <td>rs8176719</td>\n",
       "      <td>rs8176719</td>\n",
       "      <td>ITU</td>\n",
       "      <td>1.0</td>\n",
       "      <td>1.0</td>\n",
       "    </tr>\n",
       "  </tbody>\n",
       "</table>\n",
       "</div>"
      ],
      "text/plain": [
       "    functional_snp    tag_snp population   r2    d\n",
       "283      rs8176719  rs8176719        GIH  1.0  1.0\n",
       "284      rs8176719  rs8176719        PJL  1.0  1.0\n",
       "285      rs8176719  rs8176719        BEB  1.0  1.0\n",
       "286      rs8176719  rs8176719        STU  1.0  1.0\n",
       "287      rs8176719  rs8176719        ITU  1.0  1.0"
      ]
     },
     "execution_count": 8,
     "metadata": {},
     "output_type": "execute_result"
    }
   ],
   "source": [
    "# head the dataframe\n",
    "df_o.tail()"
   ]
  },
  {
   "cell_type": "code",
   "execution_count": 9,
   "id": "df9b1450",
   "metadata": {
    "scrolled": true
   },
   "outputs": [
    {
     "data": {
      "text/plain": [
       "array(['rs505922', 'rs514659', 'rs529565', 'rs612169', 'rs657152',\n",
       "       'rs687289', 'rs8176645', 'rs8176704', 'rs8176719'], dtype=object)"
      ]
     },
     "execution_count": 9,
     "metadata": {},
     "output_type": "execute_result"
    }
   ],
   "source": [
    "# return unique elements in column\n",
    "df_o.tag_snp.unique()"
   ]
  },
  {
   "cell_type": "code",
   "execution_count": 10,
   "id": "a4dde21e",
   "metadata": {},
   "outputs": [],
   "source": [
    "# save the merged results\n",
    "df_o.to_csv(path_or_buf = f\"{directory}data/r2_values/o_data/o_snps_r2_d.csv\",\n",
    "              header=1,\n",
    "              index=None)"
   ]
  },
  {
   "cell_type": "markdown",
   "id": "2c87d613",
   "metadata": {},
   "source": [
    "### A vs B SNPs"
   ]
  },
  {
   "cell_type": "markdown",
   "id": "018677d4",
   "metadata": {},
   "source": [
    "There are four functional SNPs that result in the ABO gene (reference is the gene that encodes the enzyme to create an A blood type allele) encoding the enzyme that results in a B blood type allele. \n",
    "\n",
    "These SNPs are: \n",
    "\n",
    "* rs7853989\n",
    "* rs8176743\n",
    "* rs8176746\n",
    "* rs8176747"
   ]
  },
  {
   "cell_type": "code",
   "execution_count": 11,
   "id": "71f14cc7",
   "metadata": {},
   "outputs": [],
   "source": [
    "# set path for files under O data folder\n",
    "path = f'{directory}data/r2_values/b_data/to-merge'\n",
    "# point to all files\n",
    "all_files = glob.glob(os.path.join(path , \"*.csv\")) #join one or more path components intelligently and then reutrn a list of path names that match pathname\n",
    "\n",
    "# create an empty list\n",
    "li = []\n",
    "\n",
    "# append file names into a the list \"li\"\n",
    "for filename in all_files: \n",
    "    df = pd.read_csv(filename, index_col=None, header=0)\n",
    "    li.append(df)\n",
    "\n",
    "# create a datarfame that concatenates all the .csv from list \"li\"\n",
    "df_b = pd.concat(li, axis=0, ignore_index=True)\n",
    "# change column names\n",
    "df_b.columns = ['functional_snp', 'tag_snp', 'population', 'r2', 'd']"
   ]
  },
  {
   "cell_type": "code",
   "execution_count": 12,
   "id": "4cfd658d",
   "metadata": {},
   "outputs": [
    {
     "data": {
      "text/html": [
       "<div>\n",
       "<style scoped>\n",
       "    .dataframe tbody tr th:only-of-type {\n",
       "        vertical-align: middle;\n",
       "    }\n",
       "\n",
       "    .dataframe tbody tr th {\n",
       "        vertical-align: top;\n",
       "    }\n",
       "\n",
       "    .dataframe thead th {\n",
       "        text-align: right;\n",
       "    }\n",
       "</style>\n",
       "<table border=\"1\" class=\"dataframe\">\n",
       "  <thead>\n",
       "    <tr style=\"text-align: right;\">\n",
       "      <th></th>\n",
       "      <th>functional_snp</th>\n",
       "      <th>tag_snp</th>\n",
       "      <th>population</th>\n",
       "      <th>r2</th>\n",
       "      <th>d</th>\n",
       "    </tr>\n",
       "  </thead>\n",
       "  <tbody>\n",
       "    <tr>\n",
       "      <th>0</th>\n",
       "      <td>rs7853989</td>\n",
       "      <td>rs7853989</td>\n",
       "      <td>ALL</td>\n",
       "      <td>1.0</td>\n",
       "      <td>1.0</td>\n",
       "    </tr>\n",
       "    <tr>\n",
       "      <th>1</th>\n",
       "      <td>rs7853989</td>\n",
       "      <td>rs7853989</td>\n",
       "      <td>AFR</td>\n",
       "      <td>1.0</td>\n",
       "      <td>1.0</td>\n",
       "    </tr>\n",
       "    <tr>\n",
       "      <th>2</th>\n",
       "      <td>rs7853989</td>\n",
       "      <td>rs7853989</td>\n",
       "      <td>YRI</td>\n",
       "      <td>1.0</td>\n",
       "      <td>1.0</td>\n",
       "    </tr>\n",
       "    <tr>\n",
       "      <th>3</th>\n",
       "      <td>rs7853989</td>\n",
       "      <td>rs7853989</td>\n",
       "      <td>LWK</td>\n",
       "      <td>1.0</td>\n",
       "      <td>1.0</td>\n",
       "    </tr>\n",
       "    <tr>\n",
       "      <th>4</th>\n",
       "      <td>rs7853989</td>\n",
       "      <td>rs7853989</td>\n",
       "      <td>GWD</td>\n",
       "      <td>1.0</td>\n",
       "      <td>1.0</td>\n",
       "    </tr>\n",
       "  </tbody>\n",
       "</table>\n",
       "</div>"
      ],
      "text/plain": [
       "  functional_snp    tag_snp population   r2    d\n",
       "0      rs7853989  rs7853989        ALL  1.0  1.0\n",
       "1      rs7853989  rs7853989        AFR  1.0  1.0\n",
       "2      rs7853989  rs7853989        YRI  1.0  1.0\n",
       "3      rs7853989  rs7853989        LWK  1.0  1.0\n",
       "4      rs7853989  rs7853989        GWD  1.0  1.0"
      ]
     },
     "execution_count": 12,
     "metadata": {},
     "output_type": "execute_result"
    }
   ],
   "source": [
    "# head the dataframe\n",
    "df_b.head()"
   ]
  },
  {
   "cell_type": "code",
   "execution_count": 13,
   "id": "7a0fdbfe",
   "metadata": {
    "scrolled": true
   },
   "outputs": [
    {
     "data": {
      "text/plain": [
       "array(['rs7853989', 'rs8176672', 'rs8176720', 'rs8176722', 'rs8176741',\n",
       "       'rs8176749', 'rs8176743', 'rs8176746', 'rs8176747'], dtype=object)"
      ]
     },
     "execution_count": 13,
     "metadata": {},
     "output_type": "execute_result"
    }
   ],
   "source": [
    "# return unique elements in column\n",
    "df_b.tag_snp.unique()"
   ]
  },
  {
   "cell_type": "code",
   "execution_count": 14,
   "id": "13a17b73",
   "metadata": {},
   "outputs": [],
   "source": [
    "# save the merged results\n",
    "df_b.to_csv(path_or_buf = f\"{directory}data/r2_values/b_data/b_snps_r2_d.csv\",\n",
    "              header=1,\n",
    "              index=None)"
   ]
  },
  {
   "cell_type": "markdown",
   "id": "7ab9ba17",
   "metadata": {},
   "source": [
    "# <span style=\"color:dodgerblue\">Determine SNP frequency</span>"
   ]
  },
  {
   "cell_type": "markdown",
   "id": "5f2b030c",
   "metadata": {},
   "source": [
    "I want to use circular packing as described [here](https://www.python-graph-gallery.com/circular-packing/) to visualize 1) which blood alleles are being looked at, and 2) the count of per tagSNP. Here is the [GitHub](https://github.com/elmotec/circlify) for `circlify` which is used to do circular packing.\n",
    "\n",
    "This is the most helpful [link](https://www.python-graph-gallery.com/circular-packing-several-levels-of-hierarchy).\n",
    "\n",
    "Since I want to make a hierarchical plot, I need to restructure the raw data to look like this:\n",
    "\n",
    "| bloodtype_allele | snp | count |\n",
    "| --- | --- | ---|\n",
    "| O | rs8176719 | 98 |\n",
    "| O | rs687289 | 35 |\n",
    "| B | rs8176746 | 69 |\n",
    "| ... | ... | ... | \n",
    "\n",
    "So that `count` represent the number of manuscripts that use this SNP.\n",
    "\n",
    "The data is split by bloodtype allele (O, B). The bloodtype is split by SNPs. Each SNP has a count of titles associated with it. \n"
   ]
  },
  {
   "cell_type": "markdown",
   "id": "80a2c682",
   "metadata": {},
   "source": [
    "## O vs non-O SNPs"
   ]
  },
  {
   "cell_type": "markdown",
   "id": "dc644c69",
   "metadata": {},
   "source": [
    "First let's subset out the column we want."
   ]
  },
  {
   "cell_type": "code",
   "execution_count": 16,
   "id": "a1ba21f2",
   "metadata": {},
   "outputs": [
    {
     "data": {
      "text/html": [
       "<div>\n",
       "<style scoped>\n",
       "    .dataframe tbody tr th:only-of-type {\n",
       "        vertical-align: middle;\n",
       "    }\n",
       "\n",
       "    .dataframe tbody tr th {\n",
       "        vertical-align: top;\n",
       "    }\n",
       "\n",
       "    .dataframe thead th {\n",
       "        text-align: right;\n",
       "    }\n",
       "</style>\n",
       "<table border=\"1\" class=\"dataframe\">\n",
       "  <thead>\n",
       "    <tr style=\"text-align: right;\">\n",
       "      <th></th>\n",
       "      <th>title</th>\n",
       "      <th>o_snps</th>\n",
       "    </tr>\n",
       "  </thead>\n",
       "  <tbody>\n",
       "    <tr>\n",
       "      <th>0</th>\n",
       "      <td>Quantitative influence of ABO blood groups on ...</td>\n",
       "      <td>rs8176719</td>\n",
       "    </tr>\n",
       "    <tr>\n",
       "      <th>1</th>\n",
       "      <td>The ABO blood group locus and a chromosome 3 g...</td>\n",
       "      <td>rs8176719</td>\n",
       "    </tr>\n",
       "    <tr>\n",
       "      <th>2</th>\n",
       "      <td>ABO blood type and stroke risk: The RE asons f...</td>\n",
       "      <td>rs687289</td>\n",
       "    </tr>\n",
       "    <tr>\n",
       "      <th>3</th>\n",
       "      <td>ABO, secretor, and Lewis carbohydrate histo‐bl...</td>\n",
       "      <td>rs8176719</td>\n",
       "    </tr>\n",
       "    <tr>\n",
       "      <th>4</th>\n",
       "      <td>Coagulation factor VIII: Relationship to cardi...</td>\n",
       "      <td>rs8176719</td>\n",
       "    </tr>\n",
       "  </tbody>\n",
       "</table>\n",
       "</div>"
      ],
      "text/plain": [
       "                                               title     o_snps\n",
       "0  Quantitative influence of ABO blood groups on ...  rs8176719\n",
       "1  The ABO blood group locus and a chromosome 3 g...  rs8176719\n",
       "2  ABO blood type and stroke risk: The RE asons f...   rs687289\n",
       "3  ABO, secretor, and Lewis carbohydrate histo‐bl...  rs8176719\n",
       "4  Coagulation factor VIII: Relationship to cardi...  rs8176719"
      ]
     },
     "execution_count": 16,
     "metadata": {},
     "output_type": "execute_result"
    }
   ],
   "source": [
    "# subset out the columns\n",
    "df_o_raw = df_raw[[\"title\", \"o_snps\"]]\n",
    "df_o_raw.head()"
   ]
  },
  {
   "cell_type": "code",
   "execution_count": 17,
   "id": "214a5e13",
   "metadata": {},
   "outputs": [
    {
     "data": {
      "text/plain": [
       "(136, 2)"
      ]
     },
     "execution_count": 17,
     "metadata": {},
     "output_type": "execute_result"
    }
   ],
   "source": [
    "# look at dataframe shape\n",
    "df_o_raw.shape"
   ]
  },
  {
   "cell_type": "code",
   "execution_count": 18,
   "id": "398160cf",
   "metadata": {},
   "outputs": [
    {
     "data": {
      "text/html": [
       "<div>\n",
       "<style scoped>\n",
       "    .dataframe tbody tr th:only-of-type {\n",
       "        vertical-align: middle;\n",
       "    }\n",
       "\n",
       "    .dataframe tbody tr th {\n",
       "        vertical-align: top;\n",
       "    }\n",
       "\n",
       "    .dataframe thead th {\n",
       "        text-align: right;\n",
       "    }\n",
       "</style>\n",
       "<table border=\"1\" class=\"dataframe\">\n",
       "  <thead>\n",
       "    <tr style=\"text-align: right;\">\n",
       "      <th></th>\n",
       "      <th>title</th>\n",
       "      <th>o_snps</th>\n",
       "    </tr>\n",
       "  </thead>\n",
       "  <tbody>\n",
       "    <tr>\n",
       "      <th>128</th>\n",
       "      <td>Variant ABO blood group alleles, secretor stat...</td>\n",
       "      <td>rs505922</td>\n",
       "    </tr>\n",
       "    <tr>\n",
       "      <th>129</th>\n",
       "      <td>Trans-ethnic genome-wide association study of ...</td>\n",
       "      <td>rs8176719</td>\n",
       "    </tr>\n",
       "    <tr>\n",
       "      <th>130</th>\n",
       "      <td>Alpha 2A adrenergic receptor polymorphism is a...</td>\n",
       "      <td>rs8176719</td>\n",
       "    </tr>\n",
       "    <tr>\n",
       "      <th>131</th>\n",
       "      <td>Histo-blood group gene polymorphisms as potent...</td>\n",
       "      <td>rs8176719</td>\n",
       "    </tr>\n",
       "    <tr>\n",
       "      <th>132</th>\n",
       "      <td>Association of FUT2 and ABO with Crohn's disea...</td>\n",
       "      <td>rs8176719</td>\n",
       "    </tr>\n",
       "    <tr>\n",
       "      <th>132</th>\n",
       "      <td>Association of FUT2 and ABO with Crohn's disea...</td>\n",
       "      <td>rs687289</td>\n",
       "    </tr>\n",
       "    <tr>\n",
       "      <th>133</th>\n",
       "      <td>Characterising cis-regulatory variation in the...</td>\n",
       "      <td>rs8176719</td>\n",
       "    </tr>\n",
       "    <tr>\n",
       "      <th>133</th>\n",
       "      <td>Characterising cis-regulatory variation in the...</td>\n",
       "      <td>rs687289</td>\n",
       "    </tr>\n",
       "    <tr>\n",
       "      <th>134</th>\n",
       "      <td>Robust evidence for five new Graves' disease r...</td>\n",
       "      <td>rs505922</td>\n",
       "    </tr>\n",
       "    <tr>\n",
       "      <th>135</th>\n",
       "      <td>Allelic distribution of ABO gene in Chinese ce...</td>\n",
       "      <td>rs687289</td>\n",
       "    </tr>\n",
       "  </tbody>\n",
       "</table>\n",
       "</div>"
      ],
      "text/plain": [
       "                                                 title     o_snps\n",
       "128  Variant ABO blood group alleles, secretor stat...   rs505922\n",
       "129  Trans-ethnic genome-wide association study of ...  rs8176719\n",
       "130  Alpha 2A adrenergic receptor polymorphism is a...  rs8176719\n",
       "131  Histo-blood group gene polymorphisms as potent...  rs8176719\n",
       "132  Association of FUT2 and ABO with Crohn's disea...  rs8176719\n",
       "132  Association of FUT2 and ABO with Crohn's disea...   rs687289\n",
       "133  Characterising cis-regulatory variation in the...  rs8176719\n",
       "133  Characterising cis-regulatory variation in the...   rs687289\n",
       "134  Robust evidence for five new Graves' disease r...   rs505922\n",
       "135  Allelic distribution of ABO gene in Chinese ce...   rs687289"
      ]
     },
     "execution_count": 18,
     "metadata": {},
     "output_type": "execute_result"
    }
   ],
   "source": [
    "# split multiple elements and make a new row\n",
    "df_o_raw = (df_o_raw.drop('o_snps', axis=1) \n",
    "             .join\n",
    "             (\n",
    "             df_o_raw.o_snps\n",
    "             .str\n",
    "             .split(expand=True)\n",
    "             .stack()\n",
    "             .reset_index(drop=True, level=1) # resets the index to have one level instead of multiple\n",
    "             .rename('o_snps') # rename the column           \n",
    "             ))\n",
    "# remove commnas from column\n",
    "df_o_raw['o_snps'] = df_o_raw['o_snps'].str.replace(',','')\n",
    "# add a column describing which bloodtype allele these snps are describing\n",
    "df_o_raw.tail(10)"
   ]
  },
  {
   "cell_type": "code",
   "execution_count": 19,
   "id": "3ff2f934",
   "metadata": {},
   "outputs": [
    {
     "data": {
      "text/plain": [
       "(145, 2)"
      ]
     },
     "execution_count": 19,
     "metadata": {},
     "output_type": "execute_result"
    }
   ],
   "source": [
    "# look at the df shape\n",
    "df_o_raw.shape"
   ]
  },
  {
   "cell_type": "markdown",
   "id": "d0691486",
   "metadata": {},
   "source": [
    "Now we want to count the number of titles per each SNP within the O bloodtype allele and output this as a dataframe."
   ]
  },
  {
   "cell_type": "code",
   "execution_count": 20,
   "id": "aa97dce8",
   "metadata": {
    "scrolled": true
   },
   "outputs": [
    {
     "data": {
      "text/html": [
       "<div>\n",
       "<style scoped>\n",
       "    .dataframe tbody tr th:only-of-type {\n",
       "        vertical-align: middle;\n",
       "    }\n",
       "\n",
       "    .dataframe tbody tr th {\n",
       "        vertical-align: top;\n",
       "    }\n",
       "\n",
       "    .dataframe thead th {\n",
       "        text-align: right;\n",
       "    }\n",
       "</style>\n",
       "<table border=\"1\" class=\"dataframe\">\n",
       "  <thead>\n",
       "    <tr style=\"text-align: right;\">\n",
       "      <th></th>\n",
       "      <th>snp</th>\n",
       "      <th>count</th>\n",
       "      <th>bloodtype_allele</th>\n",
       "    </tr>\n",
       "  </thead>\n",
       "  <tbody>\n",
       "    <tr>\n",
       "      <th>0</th>\n",
       "      <td>rs8176719</td>\n",
       "      <td>67</td>\n",
       "      <td>O</td>\n",
       "    </tr>\n",
       "    <tr>\n",
       "      <th>1</th>\n",
       "      <td>rs505922</td>\n",
       "      <td>33</td>\n",
       "      <td>O</td>\n",
       "    </tr>\n",
       "    <tr>\n",
       "      <th>2</th>\n",
       "      <td>rs687289</td>\n",
       "      <td>17</td>\n",
       "      <td>O</td>\n",
       "    </tr>\n",
       "    <tr>\n",
       "      <th>3</th>\n",
       "      <td>unclear</td>\n",
       "      <td>9</td>\n",
       "      <td>O</td>\n",
       "    </tr>\n",
       "    <tr>\n",
       "      <th>4</th>\n",
       "      <td>rs514659</td>\n",
       "      <td>4</td>\n",
       "      <td>O</td>\n",
       "    </tr>\n",
       "    <tr>\n",
       "      <th>5</th>\n",
       "      <td>rs657152</td>\n",
       "      <td>3</td>\n",
       "      <td>O</td>\n",
       "    </tr>\n",
       "    <tr>\n",
       "      <th>6</th>\n",
       "      <td>rs612169</td>\n",
       "      <td>3</td>\n",
       "      <td>O</td>\n",
       "    </tr>\n",
       "    <tr>\n",
       "      <th>7</th>\n",
       "      <td>rs8176645</td>\n",
       "      <td>2</td>\n",
       "      <td>O</td>\n",
       "    </tr>\n",
       "    <tr>\n",
       "      <th>8</th>\n",
       "      <td>rs8176704</td>\n",
       "      <td>1</td>\n",
       "      <td>O</td>\n",
       "    </tr>\n",
       "    <tr>\n",
       "      <th>9</th>\n",
       "      <td>rs72238104</td>\n",
       "      <td>1</td>\n",
       "      <td>O</td>\n",
       "    </tr>\n",
       "    <tr>\n",
       "      <th>10</th>\n",
       "      <td>rs529565</td>\n",
       "      <td>1</td>\n",
       "      <td>O</td>\n",
       "    </tr>\n",
       "    <tr>\n",
       "      <th>11</th>\n",
       "      <td>rs8176693</td>\n",
       "      <td>1</td>\n",
       "      <td>O</td>\n",
       "    </tr>\n",
       "  </tbody>\n",
       "</table>\n",
       "</div>"
      ],
      "text/plain": [
       "           snp  count bloodtype_allele\n",
       "0    rs8176719     67                O\n",
       "1     rs505922     33                O\n",
       "2     rs687289     17                O\n",
       "3      unclear      9                O\n",
       "4     rs514659      4                O\n",
       "5     rs657152      3                O\n",
       "6     rs612169      3                O\n",
       "7    rs8176645      2                O\n",
       "8    rs8176704      1                O\n",
       "9   rs72238104      1                O\n",
       "10    rs529565      1                O\n",
       "11   rs8176693      1                O"
      ]
     },
     "execution_count": 20,
     "metadata": {},
     "output_type": "execute_result"
    }
   ],
   "source": [
    "# convert value counts output to dataframe\n",
    "df_o_snp_counts = df_o_raw.o_snps.value_counts().rename_axis('snp').reset_index(name='count')\n",
    "df_o_snp_counts['bloodtype_allele'] = \"O\"\n",
    "df_o_snp_counts"
   ]
  },
  {
   "cell_type": "markdown",
   "id": "3b8b6e7d-d95e-4e15-b3ec-131c853e2108",
   "metadata": {},
   "source": [
    "### Basic circular packing "
   ]
  },
  {
   "cell_type": "markdown",
   "id": "5d83734d",
   "metadata": {},
   "source": [
    "Below is an example of a simple basic cirlc packing chart using the Python package [Circlify](https://github.com/elmotec/circlify)."
   ]
  },
  {
   "cell_type": "code",
   "execution_count": 21,
   "id": "30539a64",
   "metadata": {},
   "outputs": [
    {
     "data": {
      "image/png": "[encoded data removed]",
      "text/plain": [
       "<Figure size 1000x1000 with 1 Axes>"
      ]
     },
     "metadata": {},
     "output_type": "display_data"
    }
   ],
   "source": [
    "# compute circle positions:\n",
    "circles = circlify.circlify(\n",
    "    df_o_snp_counts['count'].tolist(), \n",
    "    show_enclosure=False, \n",
    "    target_enclosure=circlify.Circle(x=0, y=0, r=1)\n",
    ")\n",
    "\n",
    "\n",
    "\n",
    "# Create just a figure and only one subplot\n",
    "fig, ax = plt.subplots(figsize=(10,10))\n",
    "\n",
    "# Title\n",
    "ax.set_title('Basic circular packing for O SNPs')\n",
    "\n",
    "# Remove axes\n",
    "ax.axis('off')\n",
    "\n",
    "# Find axis boundaries\n",
    "lim = max(\n",
    "    max(\n",
    "        abs(circle.x) + circle.r,\n",
    "        abs(circle.y) + circle.r,\n",
    "    )\n",
    "    for circle in circles\n",
    ")\n",
    "plt.xlim(-lim, lim)\n",
    "plt.ylim(-lim, lim)\n",
    "\n",
    "# list of labels\n",
    "labels = df_o_snp_counts['snp']\n",
    "\n",
    "# print circles\n",
    "for circle, label in zip(circles, labels):\n",
    "    x, y, r = circle\n",
    "    ax.add_patch(plt.Circle((x, y), r, alpha=0.2, linewidth=2))\n",
    "    plt.annotate(\n",
    "          label, \n",
    "          (x,y ) ,\n",
    "          va='center',\n",
    "          ha='center'\n",
    "     )"
   ]
  },
  {
   "cell_type": "markdown",
   "id": "46787f6a",
   "metadata": {},
   "source": [
    "## A vs B SNPs"
   ]
  },
  {
   "cell_type": "code",
   "execution_count": 22,
   "id": "6bf8d9b8",
   "metadata": {
    "scrolled": true
   },
   "outputs": [
    {
     "data": {
      "text/html": [
       "<div>\n",
       "<style scoped>\n",
       "    .dataframe tbody tr th:only-of-type {\n",
       "        vertical-align: middle;\n",
       "    }\n",
       "\n",
       "    .dataframe tbody tr th {\n",
       "        vertical-align: top;\n",
       "    }\n",
       "\n",
       "    .dataframe thead th {\n",
       "        text-align: right;\n",
       "    }\n",
       "</style>\n",
       "<table border=\"1\" class=\"dataframe\">\n",
       "  <thead>\n",
       "    <tr style=\"text-align: right;\">\n",
       "      <th></th>\n",
       "      <th>title</th>\n",
       "      <th>b_snps</th>\n",
       "    </tr>\n",
       "  </thead>\n",
       "  <tbody>\n",
       "    <tr>\n",
       "      <th>0</th>\n",
       "      <td>Quantitative influence of ABO blood groups on ...</td>\n",
       "      <td>rs8176746</td>\n",
       "    </tr>\n",
       "    <tr>\n",
       "      <th>1</th>\n",
       "      <td>The ABO blood group locus and a chromosome 3 g...</td>\n",
       "      <td>rs8176747</td>\n",
       "    </tr>\n",
       "    <tr>\n",
       "      <th>2</th>\n",
       "      <td>ABO blood type and stroke risk: The RE asons f...</td>\n",
       "      <td>rs8176749</td>\n",
       "    </tr>\n",
       "    <tr>\n",
       "      <th>3</th>\n",
       "      <td>ABO, secretor, and Lewis carbohydrate histo‐bl...</td>\n",
       "      <td>unclear</td>\n",
       "    </tr>\n",
       "    <tr>\n",
       "      <th>4</th>\n",
       "      <td>Coagulation factor VIII: Relationship to cardi...</td>\n",
       "      <td>NaN</td>\n",
       "    </tr>\n",
       "    <tr>\n",
       "      <th>...</th>\n",
       "      <td>...</td>\n",
       "      <td>...</td>\n",
       "    </tr>\n",
       "    <tr>\n",
       "      <th>131</th>\n",
       "      <td>Histo-blood group gene polymorphisms as potent...</td>\n",
       "      <td>rs8176746, rs8176747</td>\n",
       "    </tr>\n",
       "    <tr>\n",
       "      <th>132</th>\n",
       "      <td>Association of FUT2 and ABO with Crohn's disea...</td>\n",
       "      <td>rs8176746</td>\n",
       "    </tr>\n",
       "    <tr>\n",
       "      <th>133</th>\n",
       "      <td>Characterising cis-regulatory variation in the...</td>\n",
       "      <td>NaN</td>\n",
       "    </tr>\n",
       "    <tr>\n",
       "      <th>134</th>\n",
       "      <td>Robust evidence for five new Graves' disease r...</td>\n",
       "      <td>rs8176746</td>\n",
       "    </tr>\n",
       "    <tr>\n",
       "      <th>135</th>\n",
       "      <td>Allelic distribution of ABO gene in Chinese ce...</td>\n",
       "      <td>rs8176743, rs8176746, rs8176749</td>\n",
       "    </tr>\n",
       "  </tbody>\n",
       "</table>\n",
       "<p>136 rows × 2 columns</p>\n",
       "</div>"
      ],
      "text/plain": [
       "                                                 title  \\\n",
       "0    Quantitative influence of ABO blood groups on ...   \n",
       "1    The ABO blood group locus and a chromosome 3 g...   \n",
       "2    ABO blood type and stroke risk: The RE asons f...   \n",
       "3    ABO, secretor, and Lewis carbohydrate histo‐bl...   \n",
       "4    Coagulation factor VIII: Relationship to cardi...   \n",
       "..                                                 ...   \n",
       "131  Histo-blood group gene polymorphisms as potent...   \n",
       "132  Association of FUT2 and ABO with Crohn's disea...   \n",
       "133  Characterising cis-regulatory variation in the...   \n",
       "134  Robust evidence for five new Graves' disease r...   \n",
       "135  Allelic distribution of ABO gene in Chinese ce...   \n",
       "\n",
       "                              b_snps  \n",
       "0                          rs8176746  \n",
       "1                          rs8176747  \n",
       "2                          rs8176749  \n",
       "3                            unclear  \n",
       "4                                NaN  \n",
       "..                               ...  \n",
       "131             rs8176746, rs8176747  \n",
       "132                        rs8176746  \n",
       "133                              NaN  \n",
       "134                        rs8176746  \n",
       "135  rs8176743, rs8176746, rs8176749  \n",
       "\n",
       "[136 rows x 2 columns]"
      ]
     },
     "execution_count": 22,
     "metadata": {},
     "output_type": "execute_result"
    }
   ],
   "source": [
    "# subset out the columns\n",
    "df_ab_raw = df_raw[[\"title\", \"b_snps\"]]\n",
    "df_ab_raw"
   ]
  },
  {
   "cell_type": "code",
   "execution_count": 23,
   "id": "39f30639",
   "metadata": {},
   "outputs": [
    {
     "data": {
      "text/plain": [
       "(136, 2)"
      ]
     },
     "execution_count": 23,
     "metadata": {},
     "output_type": "execute_result"
    }
   ],
   "source": [
    "# look at dataframe shape\n",
    "df_ab_raw.shape"
   ]
  },
  {
   "cell_type": "code",
   "execution_count": 24,
   "id": "bfe90931",
   "metadata": {},
   "outputs": [
    {
     "data": {
      "text/html": [
       "<div>\n",
       "<style scoped>\n",
       "    .dataframe tbody tr th:only-of-type {\n",
       "        vertical-align: middle;\n",
       "    }\n",
       "\n",
       "    .dataframe tbody tr th {\n",
       "        vertical-align: top;\n",
       "    }\n",
       "\n",
       "    .dataframe thead th {\n",
       "        text-align: right;\n",
       "    }\n",
       "</style>\n",
       "<table border=\"1\" class=\"dataframe\">\n",
       "  <thead>\n",
       "    <tr style=\"text-align: right;\">\n",
       "      <th></th>\n",
       "      <th>title</th>\n",
       "      <th>b_snps</th>\n",
       "    </tr>\n",
       "  </thead>\n",
       "  <tbody>\n",
       "    <tr>\n",
       "      <th>129</th>\n",
       "      <td>Trans-ethnic genome-wide association study of ...</td>\n",
       "      <td>NaN</td>\n",
       "    </tr>\n",
       "    <tr>\n",
       "      <th>130</th>\n",
       "      <td>Alpha 2A adrenergic receptor polymorphism is a...</td>\n",
       "      <td>rs8176743</td>\n",
       "    </tr>\n",
       "    <tr>\n",
       "      <th>131</th>\n",
       "      <td>Histo-blood group gene polymorphisms as potent...</td>\n",
       "      <td>rs8176746</td>\n",
       "    </tr>\n",
       "    <tr>\n",
       "      <th>131</th>\n",
       "      <td>Histo-blood group gene polymorphisms as potent...</td>\n",
       "      <td>rs8176747</td>\n",
       "    </tr>\n",
       "    <tr>\n",
       "      <th>132</th>\n",
       "      <td>Association of FUT2 and ABO with Crohn's disea...</td>\n",
       "      <td>rs8176746</td>\n",
       "    </tr>\n",
       "    <tr>\n",
       "      <th>133</th>\n",
       "      <td>Characterising cis-regulatory variation in the...</td>\n",
       "      <td>NaN</td>\n",
       "    </tr>\n",
       "    <tr>\n",
       "      <th>134</th>\n",
       "      <td>Robust evidence for five new Graves' disease r...</td>\n",
       "      <td>rs8176746</td>\n",
       "    </tr>\n",
       "    <tr>\n",
       "      <th>135</th>\n",
       "      <td>Allelic distribution of ABO gene in Chinese ce...</td>\n",
       "      <td>rs8176743</td>\n",
       "    </tr>\n",
       "    <tr>\n",
       "      <th>135</th>\n",
       "      <td>Allelic distribution of ABO gene in Chinese ce...</td>\n",
       "      <td>rs8176746</td>\n",
       "    </tr>\n",
       "    <tr>\n",
       "      <th>135</th>\n",
       "      <td>Allelic distribution of ABO gene in Chinese ce...</td>\n",
       "      <td>rs8176749</td>\n",
       "    </tr>\n",
       "  </tbody>\n",
       "</table>\n",
       "</div>"
      ],
      "text/plain": [
       "                                                 title     b_snps\n",
       "129  Trans-ethnic genome-wide association study of ...        NaN\n",
       "130  Alpha 2A adrenergic receptor polymorphism is a...  rs8176743\n",
       "131  Histo-blood group gene polymorphisms as potent...  rs8176746\n",
       "131  Histo-blood group gene polymorphisms as potent...  rs8176747\n",
       "132  Association of FUT2 and ABO with Crohn's disea...  rs8176746\n",
       "133  Characterising cis-regulatory variation in the...        NaN\n",
       "134  Robust evidence for five new Graves' disease r...  rs8176746\n",
       "135  Allelic distribution of ABO gene in Chinese ce...  rs8176743\n",
       "135  Allelic distribution of ABO gene in Chinese ce...  rs8176746\n",
       "135  Allelic distribution of ABO gene in Chinese ce...  rs8176749"
      ]
     },
     "execution_count": 24,
     "metadata": {},
     "output_type": "execute_result"
    }
   ],
   "source": [
    "# split multiple elements and make a new row\n",
    "df_ab_raw = (df_ab_raw.drop('b_snps', axis=1) \n",
    "             .join\n",
    "             (\n",
    "             df_ab_raw.b_snps\n",
    "             .str\n",
    "             .split(expand=True)\n",
    "             .stack()\n",
    "             .reset_index(drop=True, level=1) # resets the index to have one level instead of multiple\n",
    "             .rename('b_snps') # rename the column           \n",
    "             ))\n",
    "# remove commnas from column\n",
    "df_ab_raw['b_snps'] = df_ab_raw['b_snps'].str.replace(',','')\n",
    "# add a column describing which bloodtype allele these snps are describing\n",
    "df_ab_raw.tail(10)"
   ]
  },
  {
   "cell_type": "code",
   "execution_count": 25,
   "id": "8b8d1bcd",
   "metadata": {},
   "outputs": [
    {
     "data": {
      "text/plain": [
       "(159, 2)"
      ]
     },
     "execution_count": 25,
     "metadata": {},
     "output_type": "execute_result"
    }
   ],
   "source": [
    "# look at dataframe shape\n",
    "df_ab_raw.shape"
   ]
  },
  {
   "cell_type": "code",
   "execution_count": 26,
   "id": "5fbb9e37",
   "metadata": {},
   "outputs": [
    {
     "data": {
      "text/html": [
       "<div>\n",
       "<style scoped>\n",
       "    .dataframe tbody tr th:only-of-type {\n",
       "        vertical-align: middle;\n",
       "    }\n",
       "\n",
       "    .dataframe tbody tr th {\n",
       "        vertical-align: top;\n",
       "    }\n",
       "\n",
       "    .dataframe thead th {\n",
       "        text-align: right;\n",
       "    }\n",
       "</style>\n",
       "<table border=\"1\" class=\"dataframe\">\n",
       "  <thead>\n",
       "    <tr style=\"text-align: right;\">\n",
       "      <th></th>\n",
       "      <th>snp</th>\n",
       "      <th>count</th>\n",
       "      <th>bloodtype_allele</th>\n",
       "    </tr>\n",
       "  </thead>\n",
       "  <tbody>\n",
       "    <tr>\n",
       "      <th>0</th>\n",
       "      <td>rs8176746</td>\n",
       "      <td>72</td>\n",
       "      <td>A/B</td>\n",
       "    </tr>\n",
       "    <tr>\n",
       "      <th>1</th>\n",
       "      <td>rs8176747</td>\n",
       "      <td>25</td>\n",
       "      <td>A/B</td>\n",
       "    </tr>\n",
       "    <tr>\n",
       "      <th>2</th>\n",
       "      <td>rs8176749</td>\n",
       "      <td>15</td>\n",
       "      <td>A/B</td>\n",
       "    </tr>\n",
       "    <tr>\n",
       "      <th>3</th>\n",
       "      <td>unclear</td>\n",
       "      <td>10</td>\n",
       "      <td>A/B</td>\n",
       "    </tr>\n",
       "    <tr>\n",
       "      <th>4</th>\n",
       "      <td>rs8176743</td>\n",
       "      <td>7</td>\n",
       "      <td>A/B</td>\n",
       "    </tr>\n",
       "    <tr>\n",
       "      <th>5</th>\n",
       "      <td>rs7853989</td>\n",
       "      <td>3</td>\n",
       "      <td>A/B</td>\n",
       "    </tr>\n",
       "    <tr>\n",
       "      <th>6</th>\n",
       "      <td>rs8176720</td>\n",
       "      <td>3</td>\n",
       "      <td>A/B</td>\n",
       "    </tr>\n",
       "    <tr>\n",
       "      <th>7</th>\n",
       "      <td>rs8176672</td>\n",
       "      <td>3</td>\n",
       "      <td>A/B</td>\n",
       "    </tr>\n",
       "    <tr>\n",
       "      <th>8</th>\n",
       "      <td>rs8176722</td>\n",
       "      <td>1</td>\n",
       "      <td>A/B</td>\n",
       "    </tr>\n",
       "    <tr>\n",
       "      <th>9</th>\n",
       "      <td>rs8176741</td>\n",
       "      <td>1</td>\n",
       "      <td>A/B</td>\n",
       "    </tr>\n",
       "  </tbody>\n",
       "</table>\n",
       "</div>"
      ],
      "text/plain": [
       "         snp  count bloodtype_allele\n",
       "0  rs8176746     72              A/B\n",
       "1  rs8176747     25              A/B\n",
       "2  rs8176749     15              A/B\n",
       "3    unclear     10              A/B\n",
       "4  rs8176743      7              A/B\n",
       "5  rs7853989      3              A/B\n",
       "6  rs8176720      3              A/B\n",
       "7  rs8176672      3              A/B\n",
       "8  rs8176722      1              A/B\n",
       "9  rs8176741      1              A/B"
      ]
     },
     "execution_count": 26,
     "metadata": {},
     "output_type": "execute_result"
    }
   ],
   "source": [
    "# convert value counts output to dataframe\n",
    "df_ab_snp_counts = df_ab_raw.b_snps.value_counts().rename_axis('snp').reset_index(name='count')\n",
    "df_ab_snp_counts['bloodtype_allele'] = \"A/B\"\n",
    "df_ab_snp_counts"
   ]
  },
  {
   "cell_type": "markdown",
   "id": "61cf2049",
   "metadata": {},
   "source": [
    "## Merge all of count dataframes"
   ]
  },
  {
   "cell_type": "markdown",
   "id": "8d743645",
   "metadata": {},
   "source": [
    "Now that I have a dataframe with the information I want, I need to restructure it to be readible by the functions being used to make my circular package plot. \n",
    "\n",
    "The accepted dataframe is a nested list with dictionaries."
   ]
  },
  {
   "cell_type": "code",
   "execution_count": 27,
   "id": "51b04d68",
   "metadata": {},
   "outputs": [
    {
     "data": {
      "text/html": [
       "<div>\n",
       "<style scoped>\n",
       "    .dataframe tbody tr th:only-of-type {\n",
       "        vertical-align: middle;\n",
       "    }\n",
       "\n",
       "    .dataframe tbody tr th {\n",
       "        vertical-align: top;\n",
       "    }\n",
       "\n",
       "    .dataframe thead th {\n",
       "        text-align: right;\n",
       "    }\n",
       "</style>\n",
       "<table border=\"1\" class=\"dataframe\">\n",
       "  <thead>\n",
       "    <tr style=\"text-align: right;\">\n",
       "      <th></th>\n",
       "      <th>bloodtype_allele</th>\n",
       "      <th>snp</th>\n",
       "      <th>count</th>\n",
       "    </tr>\n",
       "  </thead>\n",
       "  <tbody>\n",
       "    <tr>\n",
       "      <th>0</th>\n",
       "      <td>O</td>\n",
       "      <td>rs8176719</td>\n",
       "      <td>67</td>\n",
       "    </tr>\n",
       "    <tr>\n",
       "      <th>1</th>\n",
       "      <td>O</td>\n",
       "      <td>rs505922</td>\n",
       "      <td>33</td>\n",
       "    </tr>\n",
       "    <tr>\n",
       "      <th>2</th>\n",
       "      <td>O</td>\n",
       "      <td>rs687289</td>\n",
       "      <td>17</td>\n",
       "    </tr>\n",
       "    <tr>\n",
       "      <th>3</th>\n",
       "      <td>O</td>\n",
       "      <td>unclear</td>\n",
       "      <td>9</td>\n",
       "    </tr>\n",
       "    <tr>\n",
       "      <th>4</th>\n",
       "      <td>O</td>\n",
       "      <td>rs514659</td>\n",
       "      <td>4</td>\n",
       "    </tr>\n",
       "    <tr>\n",
       "      <th>5</th>\n",
       "      <td>O</td>\n",
       "      <td>rs657152</td>\n",
       "      <td>3</td>\n",
       "    </tr>\n",
       "    <tr>\n",
       "      <th>6</th>\n",
       "      <td>O</td>\n",
       "      <td>rs612169</td>\n",
       "      <td>3</td>\n",
       "    </tr>\n",
       "    <tr>\n",
       "      <th>7</th>\n",
       "      <td>O</td>\n",
       "      <td>rs8176645</td>\n",
       "      <td>2</td>\n",
       "    </tr>\n",
       "    <tr>\n",
       "      <th>8</th>\n",
       "      <td>O</td>\n",
       "      <td>rs8176704</td>\n",
       "      <td>1</td>\n",
       "    </tr>\n",
       "    <tr>\n",
       "      <th>9</th>\n",
       "      <td>O</td>\n",
       "      <td>rs72238104</td>\n",
       "      <td>1</td>\n",
       "    </tr>\n",
       "    <tr>\n",
       "      <th>10</th>\n",
       "      <td>O</td>\n",
       "      <td>rs529565</td>\n",
       "      <td>1</td>\n",
       "    </tr>\n",
       "    <tr>\n",
       "      <th>11</th>\n",
       "      <td>O</td>\n",
       "      <td>rs8176693</td>\n",
       "      <td>1</td>\n",
       "    </tr>\n",
       "    <tr>\n",
       "      <th>0</th>\n",
       "      <td>A/B</td>\n",
       "      <td>rs8176746</td>\n",
       "      <td>72</td>\n",
       "    </tr>\n",
       "    <tr>\n",
       "      <th>1</th>\n",
       "      <td>A/B</td>\n",
       "      <td>rs8176747</td>\n",
       "      <td>25</td>\n",
       "    </tr>\n",
       "    <tr>\n",
       "      <th>2</th>\n",
       "      <td>A/B</td>\n",
       "      <td>rs8176749</td>\n",
       "      <td>15</td>\n",
       "    </tr>\n",
       "    <tr>\n",
       "      <th>3</th>\n",
       "      <td>A/B</td>\n",
       "      <td>unclear</td>\n",
       "      <td>10</td>\n",
       "    </tr>\n",
       "    <tr>\n",
       "      <th>4</th>\n",
       "      <td>A/B</td>\n",
       "      <td>rs8176743</td>\n",
       "      <td>7</td>\n",
       "    </tr>\n",
       "    <tr>\n",
       "      <th>5</th>\n",
       "      <td>A/B</td>\n",
       "      <td>rs7853989</td>\n",
       "      <td>3</td>\n",
       "    </tr>\n",
       "    <tr>\n",
       "      <th>6</th>\n",
       "      <td>A/B</td>\n",
       "      <td>rs8176720</td>\n",
       "      <td>3</td>\n",
       "    </tr>\n",
       "    <tr>\n",
       "      <th>7</th>\n",
       "      <td>A/B</td>\n",
       "      <td>rs8176672</td>\n",
       "      <td>3</td>\n",
       "    </tr>\n",
       "    <tr>\n",
       "      <th>8</th>\n",
       "      <td>A/B</td>\n",
       "      <td>rs8176722</td>\n",
       "      <td>1</td>\n",
       "    </tr>\n",
       "    <tr>\n",
       "      <th>9</th>\n",
       "      <td>A/B</td>\n",
       "      <td>rs8176741</td>\n",
       "      <td>1</td>\n",
       "    </tr>\n",
       "  </tbody>\n",
       "</table>\n",
       "</div>"
      ],
      "text/plain": [
       "   bloodtype_allele         snp  count\n",
       "0                 O   rs8176719     67\n",
       "1                 O    rs505922     33\n",
       "2                 O    rs687289     17\n",
       "3                 O     unclear      9\n",
       "4                 O    rs514659      4\n",
       "5                 O    rs657152      3\n",
       "6                 O    rs612169      3\n",
       "7                 O   rs8176645      2\n",
       "8                 O   rs8176704      1\n",
       "9                 O  rs72238104      1\n",
       "10                O    rs529565      1\n",
       "11                O   rs8176693      1\n",
       "0               A/B   rs8176746     72\n",
       "1               A/B   rs8176747     25\n",
       "2               A/B   rs8176749     15\n",
       "3               A/B     unclear     10\n",
       "4               A/B   rs8176743      7\n",
       "5               A/B   rs7853989      3\n",
       "6               A/B   rs8176720      3\n",
       "7               A/B   rs8176672      3\n",
       "8               A/B   rs8176722      1\n",
       "9               A/B   rs8176741      1"
      ]
     },
     "execution_count": 27,
     "metadata": {},
     "output_type": "execute_result"
    }
   ],
   "source": [
    "# concat all the dataframes dataframes\n",
    "frames = [df_o_snp_counts, df_ab_snp_counts]\n",
    "snp_counts = pd.concat(frames)\n",
    "snp_counts = snp_counts[['bloodtype_allele', 'snp', 'count']]\n",
    "snp_counts"
   ]
  },
  {
   "cell_type": "code",
   "execution_count": 28,
   "id": "82857c7d",
   "metadata": {},
   "outputs": [
    {
     "data": {
      "text/plain": [
       "282"
      ]
     },
     "execution_count": 28,
     "metadata": {},
     "output_type": "execute_result"
    }
   ],
   "source": [
    "# acquire the sum of counts across all bloodtype alleles\n",
    "bloodtype_allele_sum = snp_counts['count'].sum()\n",
    "bloodtype_allele_sum"
   ]
  },
  {
   "cell_type": "code",
   "execution_count": 29,
   "id": "576cc0f3",
   "metadata": {},
   "outputs": [
    {
     "data": {
      "text/html": [
       "<div>\n",
       "<style scoped>\n",
       "    .dataframe tbody tr th:only-of-type {\n",
       "        vertical-align: middle;\n",
       "    }\n",
       "\n",
       "    .dataframe tbody tr th {\n",
       "        vertical-align: top;\n",
       "    }\n",
       "\n",
       "    .dataframe thead th {\n",
       "        text-align: right;\n",
       "    }\n",
       "</style>\n",
       "<table border=\"1\" class=\"dataframe\">\n",
       "  <thead>\n",
       "    <tr style=\"text-align: right;\">\n",
       "      <th></th>\n",
       "      <th>count</th>\n",
       "    </tr>\n",
       "    <tr>\n",
       "      <th>bloodtype_allele</th>\n",
       "      <th></th>\n",
       "    </tr>\n",
       "  </thead>\n",
       "  <tbody>\n",
       "    <tr>\n",
       "      <th>A/B</th>\n",
       "      <td>140</td>\n",
       "    </tr>\n",
       "    <tr>\n",
       "      <th>O</th>\n",
       "      <td>142</td>\n",
       "    </tr>\n",
       "  </tbody>\n",
       "</table>\n",
       "</div>"
      ],
      "text/plain": [
       "                  count\n",
       "bloodtype_allele       \n",
       "A/B                 140\n",
       "O                   142"
      ]
     },
     "execution_count": 29,
     "metadata": {},
     "output_type": "execute_result"
    }
   ],
   "source": [
    "# acquire the sum of counts\n",
    "sum = snp_counts.groupby(['bloodtype_allele']).sum()\n",
    "sum"
   ]
  },
  {
   "cell_type": "markdown",
   "id": "e298a1b2",
   "metadata": {},
   "source": [
    "Combining my datasets for to make a multi-level/hierarchical dataset. This [link](https://blog.enterprisedna.co/multiindex-in-pandas-for-multi-level-or-hierarchical-data/) was helpful to do this."
   ]
  },
  {
   "cell_type": "markdown",
   "id": "2edcb7f7",
   "metadata": {},
   "source": [
    "# <span style=\"color:dodgerblue\">Circle Packing Chart with Multi-Level Hierarchy</span>"
   ]
  },
  {
   "cell_type": "markdown",
   "id": "68fa2c81",
   "metadata": {},
   "source": [
    "As made above, we have our hierarchical dataset called `snp_counts`.\n",
    "\n",
    "However, we want the data structured as a nested list with dictionaries. Unfortunately, there seems to be a glitch in the underlying `circlify` package that doesn't allow the renaming of the variable `children` to something appropriate to the dataset. \n",
    "\n",
    "**I used the `snp_counts` dataset to inform me how to structure the accepted input manually.**  \n",
    "\n",
    "The package we are using is [Circlify](https://github.com/elmotec/circlify) to create a clustering plot."
   ]
  },
  {
   "cell_type": "code",
   "execution_count": 30,
   "id": "91799bcb",
   "metadata": {},
   "outputs": [],
   "source": [
    "data = [{'id': 'bloodtype_allele', 'datum': 392, 'children' : [\n",
    "              {'id' : \"A/B\", 'datum' : 140,  \n",
    "                   'children' : [\n",
    "                     {'id' : \"rs8176746\", 'datum' : 72},\n",
    "                     {'id' : \"rs8176747\", 'datum' : 25},\n",
    "                     {'id' : \"rs8176749\", 'datum' : 15},\n",
    "                     {'id' : \"unclear\", 'datum' : 10},\n",
    "                     {'id' : \"rs8176743\", 'datum' : 7},\n",
    "                     {'id' : \"rs7853989\", 'datum' : 3},\n",
    "                     {'id' : \"rs8176720\", 'datum' : 3},\n",
    "                     {'id' : \"rs8176672\", 'datum' : 3},\n",
    "                     {'id' : \"rs8176722\", 'datum' : 1},\n",
    "                     {'id' : \"rs8176741\", 'datum' : 1}\n",
    "                   ]},\n",
    "              {'id' : \"O\", 'datum' : 142,  \n",
    "                   'children' : [\n",
    "                     {'id' : \"rs8176719\", 'datum' : 67},\n",
    "                     {'id' : \"rs505922\", 'datum' : 33},\n",
    "                     {'id' : \"rs687289\", 'datum' : 17},\n",
    "                     {'id' : \"unclear\", 'datum' : 9},\n",
    "                     {'id' : \"rs514659\", 'datum' : 4},\n",
    "                     {'id' : \"rs657152\", 'datum' : 3},\n",
    "                     {'id' : \"rs612169\", 'datum' : 3},\n",
    "                     {'id' : \"rs8176645\", 'datum' : 2},\n",
    "                     {'id' : \"rs8176704\", 'datum' : 1},\n",
    "                     {'id' : \"rs72238104\", 'datum' : 1},\n",
    "                     {'id' : \"rs529565\", 'datum' : 1},\n",
    "                     {'id' : \"rs8176693\", 'datum' : 1}\n",
    "                   ]}\n",
    "    ]}]"
   ]
  },
  {
   "cell_type": "code",
   "execution_count": 31,
   "id": "8bff9f70",
   "metadata": {},
   "outputs": [],
   "source": [
    "# Compute circle positions thanks to the circlify() function\n",
    "circles = circlify.circlify(\n",
    "    data, \n",
    "    show_enclosure=False, \n",
    "    target_enclosure=circlify.Circle(x=0, y=0, r=1)\n",
    ")"
   ]
  },
  {
   "cell_type": "code",
   "execution_count": 38,
   "id": "00ea0186",
   "metadata": {},
   "outputs": [
    {
     "data": {
      "image/png": "[encoded data removed]",
      "text/plain": [
       "<Figure size 1400x1400 with 1 Axes>"
      ]
     },
     "metadata": {},
     "output_type": "display_data"
    }
   ],
   "source": [
    "# Create just a figure and only one subplot\n",
    "fig, ax = plt.subplots(figsize=(14,14))\n",
    "\n",
    "# Title\n",
    "ax.set_title('SNPs Used for ABO Bloodtyping')\n",
    "\n",
    "# Remove axes\n",
    "ax.axis('off')\n",
    "\n",
    "# Find axis boundaries\n",
    "lim = max(\n",
    "    max(\n",
    "        abs(circle.x) + circle.r,\n",
    "        abs(circle.y) + circle.r,\n",
    "    )\n",
    "    for circle in circles\n",
    ")\n",
    "plt.xlim(-lim, lim)\n",
    "plt.ylim(-lim, lim)\n",
    "\n",
    "# Print circle the highest level (bloodtypes):\n",
    "for circle in circles:\n",
    "    if circle.level != 2:\n",
    "      continue\n",
    "    x, y, r = circle\n",
    "    ax.add_patch( plt.Circle((x, y), r, alpha=0.5, linewidth=2, color=\"lightblue\"))\n",
    "\n",
    "# Print circle and labels for the highest level:\n",
    "for circle in circles:\n",
    "    if circle.level != 3:\n",
    "      continue\n",
    "    x, y, r = circle\n",
    "    label = circle.ex[\"id\"]\n",
    "    ax.add_patch( plt.Circle((x, y), r, alpha=0.3, linewidth=2, color=\"#69b3a2\"))\n",
    "    plt.annotate(label, (x,y ), ha='center', color=\"black\")\n",
    "\n",
    "# Print labels for the bloodtypes\n",
    "for circle in circles:\n",
    "    if circle.level != 2:\n",
    "      continue\n",
    "    x, y, r = circle\n",
    "    label = circle.ex[\"id\"]\n",
    "    plt.annotate(label, (x,y ) ,va='center', ha='center', bbox=dict(facecolor='white', edgecolor='black', boxstyle='round', pad=1))\n",
    "\n",
    "plt.savefig(f\"{directory}results/python_figures/circular-packing-chart.svg\")"
   ]
  },
  {
   "cell_type": "markdown",
   "id": "2907ce15",
   "metadata": {},
   "source": [
    "# <span style=\"color:dodgerblue\">Determine which and how often ABO blood alleles are being assessed</span>"
   ]
  },
  {
   "cell_type": "markdown",
   "id": "01bce4f5",
   "metadata": {},
   "source": [
    "I want to see which blood alleles are being looked at the most. For example, I suspect many references are evaluating just the O blood allele so I want to confirm this. "
   ]
  },
  {
   "cell_type": "markdown",
   "id": "22e9514a",
   "metadata": {},
   "source": [
    "Subset out the columns we want from `df_raw`."
   ]
  },
  {
   "cell_type": "code",
   "execution_count": 39,
   "id": "6556a7d9",
   "metadata": {},
   "outputs": [
    {
     "data": {
      "text/html": [
       "<div>\n",
       "<style scoped>\n",
       "    .dataframe tbody tr th:only-of-type {\n",
       "        vertical-align: middle;\n",
       "    }\n",
       "\n",
       "    .dataframe tbody tr th {\n",
       "        vertical-align: top;\n",
       "    }\n",
       "\n",
       "    .dataframe thead th {\n",
       "        text-align: right;\n",
       "    }\n",
       "</style>\n",
       "<table border=\"1\" class=\"dataframe\">\n",
       "  <thead>\n",
       "    <tr style=\"text-align: right;\">\n",
       "      <th></th>\n",
       "      <th>title</th>\n",
       "      <th>o_snps</th>\n",
       "      <th>b_snps</th>\n",
       "    </tr>\n",
       "  </thead>\n",
       "  <tbody>\n",
       "    <tr>\n",
       "      <th>0</th>\n",
       "      <td>Quantitative influence of ABO blood groups on ...</td>\n",
       "      <td>rs8176719</td>\n",
       "      <td>rs8176746</td>\n",
       "    </tr>\n",
       "    <tr>\n",
       "      <th>1</th>\n",
       "      <td>The ABO blood group locus and a chromosome 3 g...</td>\n",
       "      <td>rs8176719</td>\n",
       "      <td>rs8176747</td>\n",
       "    </tr>\n",
       "    <tr>\n",
       "      <th>2</th>\n",
       "      <td>ABO blood type and stroke risk: The RE asons f...</td>\n",
       "      <td>rs687289</td>\n",
       "      <td>rs8176749</td>\n",
       "    </tr>\n",
       "    <tr>\n",
       "      <th>3</th>\n",
       "      <td>ABO, secretor, and Lewis carbohydrate histo‐bl...</td>\n",
       "      <td>rs8176719</td>\n",
       "      <td>unclear</td>\n",
       "    </tr>\n",
       "    <tr>\n",
       "      <th>4</th>\n",
       "      <td>Coagulation factor VIII: Relationship to cardi...</td>\n",
       "      <td>rs8176719</td>\n",
       "      <td>NaN</td>\n",
       "    </tr>\n",
       "  </tbody>\n",
       "</table>\n",
       "</div>"
      ],
      "text/plain": [
       "                                               title     o_snps     b_snps\n",
       "0  Quantitative influence of ABO blood groups on ...  rs8176719  rs8176746\n",
       "1  The ABO blood group locus and a chromosome 3 g...  rs8176719  rs8176747\n",
       "2  ABO blood type and stroke risk: The RE asons f...   rs687289  rs8176749\n",
       "3  ABO, secretor, and Lewis carbohydrate histo‐bl...  rs8176719    unclear\n",
       "4  Coagulation factor VIII: Relationship to cardi...  rs8176719        NaN"
      ]
     },
     "execution_count": 39,
     "metadata": {},
     "output_type": "execute_result"
    }
   ],
   "source": [
    "# subset out the columns we want\n",
    "df_sub = df_raw[[\"title\", \n",
    "                 \"o_snps\",\n",
    "                \"b_snps\"]]\n",
    "# output first rows as a preview\n",
    "df_sub.head()"
   ]
  },
  {
   "cell_type": "markdown",
   "id": "a1a0f0f7",
   "metadata": {},
   "source": [
    "I want to sum up all the times a reference evaluated a particular bloodtype allele; i.e. do not count NAs though we are counting unclears since this indicates they are evaluating the allele but it is unclear which particular SNP they are using to do so. "
   ]
  },
  {
   "cell_type": "code",
   "execution_count": 40,
   "id": "2592881c",
   "metadata": {},
   "outputs": [
    {
     "name": "stdout",
     "output_type": "stream",
     "text": [
      "133 117\n"
     ]
    }
   ],
   "source": [
    "# sum of all the times a references looks at this o_allele (removing NAs)\n",
    "o_allele_reference_sum = df_sub['o_snps'].value_counts(dropna=True).sum()\n",
    "\n",
    "# sum of all the times a references looks at this b_allele (removing NAs)\n",
    "b_allele_reference_sum = df_sub['b_snps'].value_counts(dropna=True).sum()\n",
    "\n",
    "print(o_allele_reference_sum, b_allele_reference_sum)"
   ]
  },
  {
   "cell_type": "markdown",
   "id": "752db159",
   "metadata": {},
   "source": [
    "Note that when you are evaluating the B allele you are also evaluating the A1 allele since that is the reference. I will use verbage that reflects this."
   ]
  },
  {
   "cell_type": "code",
   "execution_count": 41,
   "id": "5104f3c6",
   "metadata": {
    "scrolled": true
   },
   "outputs": [
    {
     "data": {
      "text/html": [
       "<div>\n",
       "<style scoped>\n",
       "    .dataframe tbody tr th:only-of-type {\n",
       "        vertical-align: middle;\n",
       "    }\n",
       "\n",
       "    .dataframe tbody tr th {\n",
       "        vertical-align: top;\n",
       "    }\n",
       "\n",
       "    .dataframe thead th {\n",
       "        text-align: right;\n",
       "    }\n",
       "</style>\n",
       "<table border=\"1\" class=\"dataframe\">\n",
       "  <thead>\n",
       "    <tr style=\"text-align: right;\">\n",
       "      <th></th>\n",
       "      <th>bloodtype_allele</th>\n",
       "      <th>references_count</th>\n",
       "    </tr>\n",
       "  </thead>\n",
       "  <tbody>\n",
       "    <tr>\n",
       "      <th>a</th>\n",
       "      <td>o_allele</td>\n",
       "      <td>133</td>\n",
       "    </tr>\n",
       "    <tr>\n",
       "      <th>b</th>\n",
       "      <td>a_b_allele</td>\n",
       "      <td>117</td>\n",
       "    </tr>\n",
       "  </tbody>\n",
       "</table>\n",
       "</div>"
      ],
      "text/plain": [
       "  bloodtype_allele references_count\n",
       "a         o_allele              133\n",
       "b       a_b_allele              117"
      ]
     },
     "execution_count": 41,
     "metadata": {},
     "output_type": "execute_result"
    }
   ],
   "source": [
    "# make an empty dataset with pre-named columns\n",
    "ref_sum = pd.DataFrame(columns = ['bloodtype_allele', 'references_count'],\n",
    "                      index = ['a', 'b'])\n",
    "\n",
    "# append at existing index\n",
    "ref_sum.loc['a'] = ['o_allele', o_allele_reference_sum]\n",
    "ref_sum.loc['b'] = ['a_b_allele', b_allele_reference_sum]\n",
    "# pring dataframe\n",
    "ref_sum"
   ]
  },
  {
   "cell_type": "markdown",
   "id": "1de5b336",
   "metadata": {},
   "source": [
    "I also want to add proportion to this dataframe."
   ]
  },
  {
   "cell_type": "code",
   "execution_count": 42,
   "id": "1dbca990",
   "metadata": {},
   "outputs": [
    {
     "data": {
      "text/html": [
       "<div>\n",
       "<style scoped>\n",
       "    .dataframe tbody tr th:only-of-type {\n",
       "        vertical-align: middle;\n",
       "    }\n",
       "\n",
       "    .dataframe tbody tr th {\n",
       "        vertical-align: top;\n",
       "    }\n",
       "\n",
       "    .dataframe thead th {\n",
       "        text-align: right;\n",
       "    }\n",
       "</style>\n",
       "<table border=\"1\" class=\"dataframe\">\n",
       "  <thead>\n",
       "    <tr style=\"text-align: right;\">\n",
       "      <th></th>\n",
       "      <th>bloodtype_allele</th>\n",
       "      <th>references_count</th>\n",
       "      <th>proportion</th>\n",
       "    </tr>\n",
       "  </thead>\n",
       "  <tbody>\n",
       "    <tr>\n",
       "      <th>a</th>\n",
       "      <td>o_allele</td>\n",
       "      <td>133</td>\n",
       "      <td>0.977941</td>\n",
       "    </tr>\n",
       "    <tr>\n",
       "      <th>b</th>\n",
       "      <td>a_b_allele</td>\n",
       "      <td>117</td>\n",
       "      <td>0.860294</td>\n",
       "    </tr>\n",
       "  </tbody>\n",
       "</table>\n",
       "</div>"
      ],
      "text/plain": [
       "  bloodtype_allele references_count proportion\n",
       "a         o_allele              133   0.977941\n",
       "b       a_b_allele              117   0.860294"
      ]
     },
     "execution_count": 42,
     "metadata": {},
     "output_type": "execute_result"
    }
   ],
   "source": [
    "# count the number of total references\n",
    "all_ref = len(df_sub)\n",
    "all_ref\n",
    "\n",
    "# add proportion to dataframe\n",
    "ref_sum['proportion'] = (ref_sum['references_count'] / all_ref)\n",
    "ref_sum"
   ]
  },
  {
   "cell_type": "markdown",
   "id": "78910eb0",
   "metadata": {},
   "source": [
    "## Bar graph - Number of references investigating each ABO blood type allele"
   ]
  },
  {
   "cell_type": "code",
   "execution_count": 43,
   "id": "6c5e3c1f",
   "metadata": {},
   "outputs": [
    {
     "data": {
      "image/png": "[encoded data removed]",
      "text/plain": [
       "<Figure size 640x480 with 1 Axes>"
      ]
     },
     "metadata": {},
     "output_type": "display_data"
    }
   ],
   "source": [
    "# create graph with matplotlib\n",
    "New_Colors = ['green','blue','purple']\n",
    "\n",
    "# save ficgure before show()\n",
    "fig = plt.gcf()\n",
    "\n",
    "plt.bar(ref_sum['bloodtype_allele'], ref_sum['references_count'], color=New_Colors)\n",
    "plt.title('Number of Studies Investigating Each ABO Blood type Allele', fontsize=14)\n",
    "plt.xlabel('ABO Bloodtype Alleles', fontsize=14)\n",
    "plt.ylabel('Counts', fontsize=14)\n",
    "plt.show()\n",
    "\n",
    "# save figure\n",
    "fig.savefig(f\"{directory}results/python_figures/bar-number-studies-investigating-each-abo-allele.svg\", \n",
    "           format='svg')"
   ]
  },
  {
   "cell_type": "markdown",
   "id": "34a2c448",
   "metadata": {},
   "source": [
    "## How many O only, A/B only, O and A/B"
   ]
  },
  {
   "cell_type": "code",
   "execution_count": 44,
   "id": "d2b93e80",
   "metadata": {},
   "outputs": [
    {
     "data": {
      "text/html": [
       "<div>\n",
       "<style scoped>\n",
       "    .dataframe tbody tr th:only-of-type {\n",
       "        vertical-align: middle;\n",
       "    }\n",
       "\n",
       "    .dataframe tbody tr th {\n",
       "        vertical-align: top;\n",
       "    }\n",
       "\n",
       "    .dataframe thead th {\n",
       "        text-align: right;\n",
       "    }\n",
       "</style>\n",
       "<table border=\"1\" class=\"dataframe\">\n",
       "  <thead>\n",
       "    <tr style=\"text-align: right;\">\n",
       "      <th></th>\n",
       "      <th>title</th>\n",
       "      <th>o_snps</th>\n",
       "      <th>b_snps</th>\n",
       "    </tr>\n",
       "  </thead>\n",
       "  <tbody>\n",
       "    <tr>\n",
       "      <th>0</th>\n",
       "      <td>Quantitative influence of ABO blood groups on ...</td>\n",
       "      <td>rs8176719</td>\n",
       "      <td>rs8176746</td>\n",
       "    </tr>\n",
       "    <tr>\n",
       "      <th>1</th>\n",
       "      <td>The ABO blood group locus and a chromosome 3 g...</td>\n",
       "      <td>rs8176719</td>\n",
       "      <td>rs8176747</td>\n",
       "    </tr>\n",
       "    <tr>\n",
       "      <th>2</th>\n",
       "      <td>ABO blood type and stroke risk: The RE asons f...</td>\n",
       "      <td>rs687289</td>\n",
       "      <td>rs8176749</td>\n",
       "    </tr>\n",
       "    <tr>\n",
       "      <th>3</th>\n",
       "      <td>ABO, secretor, and Lewis carbohydrate histo‐bl...</td>\n",
       "      <td>rs8176719</td>\n",
       "      <td>unclear</td>\n",
       "    </tr>\n",
       "    <tr>\n",
       "      <th>4</th>\n",
       "      <td>Coagulation factor VIII: Relationship to cardi...</td>\n",
       "      <td>rs8176719</td>\n",
       "      <td>NaN</td>\n",
       "    </tr>\n",
       "  </tbody>\n",
       "</table>\n",
       "</div>"
      ],
      "text/plain": [
       "                                               title     o_snps     b_snps\n",
       "0  Quantitative influence of ABO blood groups on ...  rs8176719  rs8176746\n",
       "1  The ABO blood group locus and a chromosome 3 g...  rs8176719  rs8176747\n",
       "2  ABO blood type and stroke risk: The RE asons f...   rs687289  rs8176749\n",
       "3  ABO, secretor, and Lewis carbohydrate histo‐bl...  rs8176719    unclear\n",
       "4  Coagulation factor VIII: Relationship to cardi...  rs8176719        NaN"
      ]
     },
     "execution_count": 44,
     "metadata": {},
     "output_type": "execute_result"
    }
   ],
   "source": [
    "# print first few rows\n",
    "df_sub.head()"
   ]
  },
  {
   "cell_type": "code",
   "execution_count": 45,
   "id": "fb355698",
   "metadata": {},
   "outputs": [
    {
     "name": "stderr",
     "output_type": "stream",
     "text": [
      "C:\\Users\\klmartinez\\AppData\\Local\\Temp\\ipykernel_8484\\1797555322.py:2: SettingWithCopyWarning: \n",
      "A value is trying to be set on a copy of a slice from a DataFrame.\n",
      "Try using .loc[row_indexer,col_indexer] = value instead\n",
      "\n",
      "See the caveats in the documentation: https://pandas.pydata.org/pandas-docs/stable/user_guide/indexing.html#returning-a-view-versus-a-copy\n",
      "  df_sub[\"which_bloodtypes\"] = np.nan\n",
      "C:\\Users\\klmartinez\\AppData\\Local\\Temp\\ipykernel_8484\\1797555322.py:3: SettingWithCopyWarning: \n",
      "A value is trying to be set on a copy of a slice from a DataFrame.\n",
      "Try using .loc[row_indexer,col_indexer] = value instead\n",
      "\n",
      "See the caveats in the documentation: https://pandas.pydata.org/pandas-docs/stable/user_guide/indexing.html#returning-a-view-versus-a-copy\n",
      "  df_sub.loc[(df_sub['o_snps'].notna()) & (df_sub['b_snps'].isna()), \"which_bloodtypes\"] = \"o_only\"\n"
     ]
    },
    {
     "data": {
      "text/html": [
       "<div>\n",
       "<style scoped>\n",
       "    .dataframe tbody tr th:only-of-type {\n",
       "        vertical-align: middle;\n",
       "    }\n",
       "\n",
       "    .dataframe tbody tr th {\n",
       "        vertical-align: top;\n",
       "    }\n",
       "\n",
       "    .dataframe thead th {\n",
       "        text-align: right;\n",
       "    }\n",
       "</style>\n",
       "<table border=\"1\" class=\"dataframe\">\n",
       "  <thead>\n",
       "    <tr style=\"text-align: right;\">\n",
       "      <th></th>\n",
       "      <th>title</th>\n",
       "      <th>o_snps</th>\n",
       "      <th>b_snps</th>\n",
       "      <th>which_bloodtypes</th>\n",
       "    </tr>\n",
       "  </thead>\n",
       "  <tbody>\n",
       "    <tr>\n",
       "      <th>0</th>\n",
       "      <td>Quantitative influence of ABO blood groups on ...</td>\n",
       "      <td>rs8176719</td>\n",
       "      <td>rs8176746</td>\n",
       "      <td>ab_o</td>\n",
       "    </tr>\n",
       "    <tr>\n",
       "      <th>1</th>\n",
       "      <td>The ABO blood group locus and a chromosome 3 g...</td>\n",
       "      <td>rs8176719</td>\n",
       "      <td>rs8176747</td>\n",
       "      <td>ab_o</td>\n",
       "    </tr>\n",
       "    <tr>\n",
       "      <th>2</th>\n",
       "      <td>ABO blood type and stroke risk: The RE asons f...</td>\n",
       "      <td>rs687289</td>\n",
       "      <td>rs8176749</td>\n",
       "      <td>ab_o</td>\n",
       "    </tr>\n",
       "    <tr>\n",
       "      <th>3</th>\n",
       "      <td>ABO, secretor, and Lewis carbohydrate histo‐bl...</td>\n",
       "      <td>rs8176719</td>\n",
       "      <td>unclear</td>\n",
       "      <td>ab_o</td>\n",
       "    </tr>\n",
       "    <tr>\n",
       "      <th>4</th>\n",
       "      <td>Coagulation factor VIII: Relationship to cardi...</td>\n",
       "      <td>rs8176719</td>\n",
       "      <td>NaN</td>\n",
       "      <td>o_only</td>\n",
       "    </tr>\n",
       "  </tbody>\n",
       "</table>\n",
       "</div>"
      ],
      "text/plain": [
       "                                               title     o_snps     b_snps  \\\n",
       "0  Quantitative influence of ABO blood groups on ...  rs8176719  rs8176746   \n",
       "1  The ABO blood group locus and a chromosome 3 g...  rs8176719  rs8176747   \n",
       "2  ABO blood type and stroke risk: The RE asons f...   rs687289  rs8176749   \n",
       "3  ABO, secretor, and Lewis carbohydrate histo‐bl...  rs8176719    unclear   \n",
       "4  Coagulation factor VIII: Relationship to cardi...  rs8176719        NaN   \n",
       "\n",
       "  which_bloodtypes  \n",
       "0             ab_o  \n",
       "1             ab_o  \n",
       "2             ab_o  \n",
       "3             ab_o  \n",
       "4           o_only  "
      ]
     },
     "execution_count": 45,
     "metadata": {},
     "output_type": "execute_result"
    }
   ],
   "source": [
    "# make a new column based off of conditions\n",
    "df_sub[\"which_bloodtypes\"] = np.nan\n",
    "df_sub.loc[(df_sub['o_snps'].notna()) & (df_sub['b_snps'].isna()), \"which_bloodtypes\"] = \"o_only\"\n",
    "df_sub.loc[(df_sub['o_snps'].isna()) & (df_sub['b_snps'].notna()), \"which_bloodtypes\"] = \"ab_only\"\n",
    "df_sub.loc[(df_sub['o_snps'].notna()) & (df_sub['b_snps'].notna()), \"which_bloodtypes\"] = \"ab_o\"\n",
    "df_sub.head()"
   ]
  },
  {
   "cell_type": "code",
   "execution_count": 46,
   "id": "efcfcf04",
   "metadata": {},
   "outputs": [
    {
     "data": {
      "text/html": [
       "<div>\n",
       "<style scoped>\n",
       "    .dataframe tbody tr th:only-of-type {\n",
       "        vertical-align: middle;\n",
       "    }\n",
       "\n",
       "    .dataframe tbody tr th {\n",
       "        vertical-align: top;\n",
       "    }\n",
       "\n",
       "    .dataframe thead th {\n",
       "        text-align: right;\n",
       "    }\n",
       "</style>\n",
       "<table border=\"1\" class=\"dataframe\">\n",
       "  <thead>\n",
       "    <tr style=\"text-align: right;\">\n",
       "      <th></th>\n",
       "      <th>which_bloodtypes</th>\n",
       "      <th>counts</th>\n",
       "      <th>proportion</th>\n",
       "    </tr>\n",
       "  </thead>\n",
       "  <tbody>\n",
       "    <tr>\n",
       "      <th>0</th>\n",
       "      <td>ab_o</td>\n",
       "      <td>114</td>\n",
       "      <td>0.838235</td>\n",
       "    </tr>\n",
       "    <tr>\n",
       "      <th>1</th>\n",
       "      <td>o_only</td>\n",
       "      <td>19</td>\n",
       "      <td>0.139706</td>\n",
       "    </tr>\n",
       "    <tr>\n",
       "      <th>2</th>\n",
       "      <td>ab_only</td>\n",
       "      <td>3</td>\n",
       "      <td>0.022059</td>\n",
       "    </tr>\n",
       "  </tbody>\n",
       "</table>\n",
       "</div>"
      ],
      "text/plain": [
       "  which_bloodtypes  counts  proportion\n",
       "0             ab_o     114    0.838235\n",
       "1           o_only      19    0.139706\n",
       "2          ab_only       3    0.022059"
      ]
     },
     "execution_count": 46,
     "metadata": {},
     "output_type": "execute_result"
    }
   ],
   "source": [
    "# acquire the frequency of a column and conver to a dataframe\n",
    "which_bloodtypes_df = df_sub.which_bloodtypes.value_counts().rename_axis('which_bloodtypes').reset_index(name='counts')\n",
    "# add in proportions\n",
    "which_bloodtypes_df['proportion'] = (which_bloodtypes_df['counts'] / which_bloodtypes_df['counts'].sum())\n",
    "which_bloodtypes_df"
   ]
  },
  {
   "cell_type": "code",
   "execution_count": 47,
   "id": "adf0b83c",
   "metadata": {
    "scrolled": true
   },
   "outputs": [
    {
     "data": {
      "image/png": "[encoded data removed]",
      "text/plain": [
       "<Figure size 640x480 with 1 Axes>"
      ]
     },
     "metadata": {},
     "output_type": "display_data"
    }
   ],
   "source": [
    "# create a bargraph\n",
    "\n",
    "# save ficgure before show()\n",
    "fig = plt.gcf()\n",
    "\n",
    "# create graph with matplotlib\n",
    "New_Colors = ['green','blue','purple']\n",
    "plt.bar(which_bloodtypes_df['which_bloodtypes'], which_bloodtypes_df['counts'], color=New_Colors)\n",
    "plt.title('Number of References Investigating ABO Bloodtypes', fontsize=14)\n",
    "plt.xlabel('ABO Bloodtype Alleles', fontsize=14)\n",
    "plt.ylabel('Counts', fontsize=14)\n",
    "plt.show()\n",
    "\n",
    "# save figure\n",
    "fig.savefig(f\"{directory}results/python_figures/bar-number-studies-investigating-each-abo-allele-2.svg\", \n",
    "           format='svg')"
   ]
  }
 ],
 "metadata": {
  "kernelspec": {
   "display_name": "Python 3 (ipykernel)",
   "language": "python",
   "name": "python3"
  },
  "language_info": {
   "codemirror_mode": {
    "name": "ipython",
    "version": 3
   },
   "file_extension": ".py",
   "mimetype": "text/x-python",
   "name": "python",
   "nbconvert_exporter": "python",
   "pygments_lexer": "ipython3",
   "version": "3.9.12"
  }
 },
 "nbformat": 4,
 "nbformat_minor": 5
}
